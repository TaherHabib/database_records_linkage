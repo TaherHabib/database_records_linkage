{
 "cells": [
  {
   "cell_type": "code",
   "execution_count": 1,
   "id": "bdb1783b",
   "metadata": {},
   "outputs": [],
   "source": [
    "import numpy as np\n",
    "import pandas as pd\n",
    "import os\n",
    "import re\n",
    "import difflib\n",
    "from collections import Counter\n",
    "from metaphone import doublemetaphone\n",
    "\n",
    "ROOT = '/home/thabib/database_records_linkage'"
   ]
  },
  {
   "cell_type": "code",
   "execution_count": 8,
   "id": "f5f41a79",
   "metadata": {},
   "outputs": [],
   "source": [
    "s1_s2_commonids = pd.read_csv(os.path.join(ROOT, 'data', 's1_s2_commonids.tsv'), sep='\\t')\n",
    "s1_cstr = pd.read_csv(os.path.join(ROOT,'data', 'source1_cstr.csv'))\n",
    "s2_nond_cstr = pd.read_csv(os.path.join(ROOT, 'data', 'source2_nonanids_nod_cstr.csv'))"
   ]
  },
  {
   "cell_type": "code",
   "execution_count": 9,
   "id": "2346f666",
   "metadata": {
    "scrolled": true
   },
   "outputs": [
    {
     "data": {
      "text/html": [
       "<div>\n",
       "<style scoped>\n",
       "    .dataframe tbody tr th:only-of-type {\n",
       "        vertical-align: middle;\n",
       "    }\n",
       "\n",
       "    .dataframe tbody tr th {\n",
       "        vertical-align: top;\n",
       "    }\n",
       "\n",
       "    .dataframe thead th {\n",
       "        text-align: right;\n",
       "    }\n",
       "</style>\n",
       "<table border=\"1\" class=\"dataframe\">\n",
       "  <thead>\n",
       "    <tr style=\"text-align: right;\">\n",
       "      <th></th>\n",
       "      <th>id</th>\n",
       "      <th>name</th>\n",
       "      <th>street_number</th>\n",
       "      <th>street_type</th>\n",
       "      <th>street_name</th>\n",
       "      <th>address_line2</th>\n",
       "      <th>postal_code</th>\n",
       "      <th>city</th>\n",
       "    </tr>\n",
       "  </thead>\n",
       "  <tbody>\n",
       "    <tr>\n",
       "      <th>0</th>\n",
       "      <td>542012000015</td>\n",
       "      <td>societe des sucreries du marquenterre</td>\n",
       "      <td>NaN</td>\n",
       "      <td>rue</td>\n",
       "      <td>de la fontaine</td>\n",
       "      <td>NaN</td>\n",
       "      <td>80120</td>\n",
       "      <td>rue</td>\n",
       "    </tr>\n",
       "    <tr>\n",
       "      <th>1</th>\n",
       "      <td>542012000031</td>\n",
       "      <td>societe des sucreries du marquenterre</td>\n",
       "      <td>NaN</td>\n",
       "      <td>rte</td>\n",
       "      <td>nationale</td>\n",
       "      <td>NaN</td>\n",
       "      <td>62140</td>\n",
       "      <td>marconnelle</td>\n",
       "    </tr>\n",
       "    <tr>\n",
       "      <th>2</th>\n",
       "      <td>545011900028</td>\n",
       "      <td>le grand cafe et gassendi</td>\n",
       "      <td>NaN</td>\n",
       "      <td>NaN</td>\n",
       "      <td>saint christophe</td>\n",
       "      <td>route de marseille</td>\n",
       "      <td>4000</td>\n",
       "      <td>digne les bains</td>\n",
       "    </tr>\n",
       "    <tr>\n",
       "      <th>3</th>\n",
       "      <td>552017600016</td>\n",
       "      <td>hernas cartonnage</td>\n",
       "      <td>50.0</td>\n",
       "      <td>rue</td>\n",
       "      <td>pasteur</td>\n",
       "      <td>NaN</td>\n",
       "      <td>80210</td>\n",
       "      <td>feuquieres en vimeu</td>\n",
       "    </tr>\n",
       "    <tr>\n",
       "      <th>4</th>\n",
       "      <td>552017600032</td>\n",
       "      <td>hernas cartonnage</td>\n",
       "      <td>NaN</td>\n",
       "      <td>NaN</td>\n",
       "      <td>zone des hayettes</td>\n",
       "      <td>NaN</td>\n",
       "      <td>80210</td>\n",
       "      <td>chepy</td>\n",
       "    </tr>\n",
       "    <tr>\n",
       "      <th>...</th>\n",
       "      <td>...</td>\n",
       "      <td>...</td>\n",
       "      <td>...</td>\n",
       "      <td>...</td>\n",
       "      <td>...</td>\n",
       "      <td>...</td>\n",
       "      <td>...</td>\n",
       "      <td>...</td>\n",
       "    </tr>\n",
       "    <tr>\n",
       "      <th>1826164</th>\n",
       "      <td>90771119600010</td>\n",
       "      <td>bionormande</td>\n",
       "      <td>NaN</td>\n",
       "      <td>rue</td>\n",
       "      <td>de la grande flandre</td>\n",
       "      <td>lot 1 7 a</td>\n",
       "      <td>76270</td>\n",
       "      <td>neufchatel en bray</td>\n",
       "    </tr>\n",
       "    <tr>\n",
       "      <th>1826165</th>\n",
       "      <td>90771120400012</td>\n",
       "      <td>ahela bat</td>\n",
       "      <td>18.0</td>\n",
       "      <td>rue</td>\n",
       "      <td>saint clement</td>\n",
       "      <td>NaN</td>\n",
       "      <td>93200</td>\n",
       "      <td>saint denis</td>\n",
       "    </tr>\n",
       "    <tr>\n",
       "      <th>1826166</th>\n",
       "      <td>90771121200015</td>\n",
       "      <td>deco batiment</td>\n",
       "      <td>7.0</td>\n",
       "      <td>rue</td>\n",
       "      <td>auguste blanqui</td>\n",
       "      <td>NaN</td>\n",
       "      <td>93200</td>\n",
       "      <td>saint denis</td>\n",
       "    </tr>\n",
       "    <tr>\n",
       "      <th>1826167</th>\n",
       "      <td>90760906900014</td>\n",
       "      <td>chateaux merveilles</td>\n",
       "      <td>15.0</td>\n",
       "      <td>rue</td>\n",
       "      <td>de milan</td>\n",
       "      <td>NaN</td>\n",
       "      <td>75009</td>\n",
       "      <td>paris 9</td>\n",
       "    </tr>\n",
       "    <tr>\n",
       "      <th>1826168</th>\n",
       "      <td>90760963000013</td>\n",
       "      <td>cap armade</td>\n",
       "      <td>140.0</td>\n",
       "      <td>rue</td>\n",
       "      <td>de tocqueville</td>\n",
       "      <td>NaN</td>\n",
       "      <td>75017</td>\n",
       "      <td>paris 17</td>\n",
       "    </tr>\n",
       "  </tbody>\n",
       "</table>\n",
       "<p>1826169 rows × 8 columns</p>\n",
       "</div>"
      ],
      "text/plain": [
       "                     id                                   name  street_number  \\\n",
       "0          542012000015  societe des sucreries du marquenterre            NaN   \n",
       "1          542012000031  societe des sucreries du marquenterre            NaN   \n",
       "2          545011900028              le grand cafe et gassendi            NaN   \n",
       "3          552017600016                      hernas cartonnage           50.0   \n",
       "4          552017600032                      hernas cartonnage            NaN   \n",
       "...                 ...                                    ...            ...   \n",
       "1826164  90771119600010                            bionormande            NaN   \n",
       "1826165  90771120400012                              ahela bat           18.0   \n",
       "1826166  90771121200015                          deco batiment            7.0   \n",
       "1826167  90760906900014                    chateaux merveilles           15.0   \n",
       "1826168  90760963000013                             cap armade          140.0   \n",
       "\n",
       "        street_type           street_name       address_line2  postal_code  \\\n",
       "0               rue        de la fontaine                 NaN        80120   \n",
       "1               rte             nationale                 NaN        62140   \n",
       "2               NaN      saint christophe  route de marseille         4000   \n",
       "3               rue               pasteur                 NaN        80210   \n",
       "4               NaN     zone des hayettes                 NaN        80210   \n",
       "...             ...                   ...                 ...          ...   \n",
       "1826164         rue  de la grande flandre           lot 1 7 a        76270   \n",
       "1826165         rue         saint clement                 NaN        93200   \n",
       "1826166         rue       auguste blanqui                 NaN        93200   \n",
       "1826167         rue              de milan                 NaN        75009   \n",
       "1826168         rue        de tocqueville                 NaN        75017   \n",
       "\n",
       "                        city  \n",
       "0                        rue  \n",
       "1                marconnelle  \n",
       "2            digne les bains  \n",
       "3        feuquieres en vimeu  \n",
       "4                      chepy  \n",
       "...                      ...  \n",
       "1826164   neufchatel en bray  \n",
       "1826165          saint denis  \n",
       "1826166          saint denis  \n",
       "1826167              paris 9  \n",
       "1826168             paris 17  \n",
       "\n",
       "[1826169 rows x 8 columns]"
      ]
     },
     "execution_count": 9,
     "metadata": {},
     "output_type": "execute_result"
    }
   ],
   "source": [
    "s1_cstr"
   ]
  },
  {
   "cell_type": "code",
   "execution_count": 12,
   "id": "aaee6090",
   "metadata": {},
   "outputs": [],
   "source": [
    "unique_street_types = np.unique(s1_cstr['street_type'].dropna())"
   ]
  },
  {
   "cell_type": "code",
   "execution_count": 13,
   "id": "43df2f26",
   "metadata": {
    "scrolled": true
   },
   "outputs": [
    {
     "data": {
      "text/html": [
       "<div>\n",
       "<style scoped>\n",
       "    .dataframe tbody tr th:only-of-type {\n",
       "        vertical-align: middle;\n",
       "    }\n",
       "\n",
       "    .dataframe tbody tr th {\n",
       "        vertical-align: top;\n",
       "    }\n",
       "\n",
       "    .dataframe thead th {\n",
       "        text-align: right;\n",
       "    }\n",
       "</style>\n",
       "<table border=\"1\" class=\"dataframe\">\n",
       "  <thead>\n",
       "    <tr style=\"text-align: right;\">\n",
       "      <th></th>\n",
       "      <th>Unnamed: 0</th>\n",
       "      <th>address</th>\n",
       "      <th>website</th>\n",
       "      <th>id</th>\n",
       "      <th>name</th>\n",
       "    </tr>\n",
       "  </thead>\n",
       "  <tbody>\n",
       "    <tr>\n",
       "      <th>0</th>\n",
       "      <td>1</td>\n",
       "      <td>50 rte bage 01380 saint cyr sur menthon</td>\n",
       "      <td>NaN</td>\n",
       "      <td>84122632700010</td>\n",
       "      <td>sarl landrix freres</td>\n",
       "    </tr>\n",
       "    <tr>\n",
       "      <th>1</th>\n",
       "      <td>2</td>\n",
       "      <td>120 r menthon 01380 saint cyr sur menthon</td>\n",
       "      <td>NaN</td>\n",
       "      <td>79134582000025</td>\n",
       "      <td>marion kwasniewski</td>\n",
       "    </tr>\n",
       "    <tr>\n",
       "      <th>2</th>\n",
       "      <td>4</td>\n",
       "      <td>350 rte loeze 01380 saint cyr sur menthon</td>\n",
       "      <td>NaN</td>\n",
       "      <td>43416176600010</td>\n",
       "      <td>manigand stephane</td>\n",
       "    </tr>\n",
       "    <tr>\n",
       "      <th>3</th>\n",
       "      <td>5</td>\n",
       "      <td>41 r centre 01380 saint cyr sur menthon</td>\n",
       "      <td>http://www.infirmiere-frederique-thevenard.fr</td>\n",
       "      <td>48854644100012</td>\n",
       "      <td>frederique thevenard</td>\n",
       "    </tr>\n",
       "    <tr>\n",
       "      <th>4</th>\n",
       "      <td>6</td>\n",
       "      <td>116 chem cochatieres 01380 saint cyr sur menthon</td>\n",
       "      <td>NaN</td>\n",
       "      <td>41811188600028</td>\n",
       "      <td>garnier xavier</td>\n",
       "    </tr>\n",
       "    <tr>\n",
       "      <th>...</th>\n",
       "      <td>...</td>\n",
       "      <td>...</td>\n",
       "      <td>...</td>\n",
       "      <td>...</td>\n",
       "      <td>...</td>\n",
       "    </tr>\n",
       "    <tr>\n",
       "      <th>2271357</th>\n",
       "      <td>3530296</td>\n",
       "      <td>2 av chateau 83150 bandol</td>\n",
       "      <td>NaN</td>\n",
       "      <td>30130663500097</td>\n",
       "      <td>carlot jean francois</td>\n",
       "    </tr>\n",
       "    <tr>\n",
       "      <th>2271358</th>\n",
       "      <td>3530297</td>\n",
       "      <td>NaN</td>\n",
       "      <td>NaN</td>\n",
       "      <td>84978102600018</td>\n",
       "      <td>jacoby o</td>\n",
       "    </tr>\n",
       "    <tr>\n",
       "      <th>2271359</th>\n",
       "      <td>3530299</td>\n",
       "      <td>5 r jardins 83150 bandol</td>\n",
       "      <td>http://aquabike-en-mer.com</td>\n",
       "      <td>79518496900025</td>\n",
       "      <td>calvet richard</td>\n",
       "    </tr>\n",
       "    <tr>\n",
       "      <th>2271360</th>\n",
       "      <td>3530300</td>\n",
       "      <td>54 traverse laboureur 83150 bandol</td>\n",
       "      <td>http://dolcefarnientebandol.com</td>\n",
       "      <td>53925863200014</td>\n",
       "      <td>dolce far niente</td>\n",
       "    </tr>\n",
       "    <tr>\n",
       "      <th>2271361</th>\n",
       "      <td>3530301</td>\n",
       "      <td>9 r tonneliers 83150 bandol</td>\n",
       "      <td>NaN</td>\n",
       "      <td>40091957700025</td>\n",
       "      <td>cordonnerie nouvelle</td>\n",
       "    </tr>\n",
       "  </tbody>\n",
       "</table>\n",
       "<p>2271362 rows × 5 columns</p>\n",
       "</div>"
      ],
      "text/plain": [
       "         Unnamed: 0                                           address  \\\n",
       "0                 1           50 rte bage 01380 saint cyr sur menthon   \n",
       "1                 2         120 r menthon 01380 saint cyr sur menthon   \n",
       "2                 4         350 rte loeze 01380 saint cyr sur menthon   \n",
       "3                 5           41 r centre 01380 saint cyr sur menthon   \n",
       "4                 6  116 chem cochatieres 01380 saint cyr sur menthon   \n",
       "...             ...                                               ...   \n",
       "2271357     3530296                         2 av chateau 83150 bandol   \n",
       "2271358     3530297                                               NaN   \n",
       "2271359     3530299                          5 r jardins 83150 bandol   \n",
       "2271360     3530300                54 traverse laboureur 83150 bandol   \n",
       "2271361     3530301                       9 r tonneliers 83150 bandol   \n",
       "\n",
       "                                               website              id  \\\n",
       "0                                                  NaN  84122632700010   \n",
       "1                                                  NaN  79134582000025   \n",
       "2                                                  NaN  43416176600010   \n",
       "3        http://www.infirmiere-frederique-thevenard.fr  48854644100012   \n",
       "4                                                  NaN  41811188600028   \n",
       "...                                                ...             ...   \n",
       "2271357                                            NaN  30130663500097   \n",
       "2271358                                            NaN  84978102600018   \n",
       "2271359                     http://aquabike-en-mer.com  79518496900025   \n",
       "2271360                http://dolcefarnientebandol.com  53925863200014   \n",
       "2271361                                            NaN  40091957700025   \n",
       "\n",
       "                         name  \n",
       "0         sarl landrix freres  \n",
       "1          marion kwasniewski  \n",
       "2           manigand stephane  \n",
       "3        frederique thevenard  \n",
       "4              garnier xavier  \n",
       "...                       ...  \n",
       "2271357  carlot jean francois  \n",
       "2271358              jacoby o  \n",
       "2271359        calvet richard  \n",
       "2271360      dolce far niente  \n",
       "2271361  cordonnerie nouvelle  \n",
       "\n",
       "[2271362 rows x 5 columns]"
      ]
     },
     "execution_count": 13,
     "metadata": {},
     "output_type": "execute_result"
    }
   ],
   "source": [
    "s2_nond_cstr"
   ]
  },
  {
   "cell_type": "markdown",
   "id": "f8795ecb",
   "metadata": {},
   "source": [
    "# Testing Double Metaphone on name_x, name_y similarity matching"
   ]
  },
  {
   "cell_type": "code",
   "execution_count": 10,
   "id": "ac6e83e6",
   "metadata": {},
   "outputs": [
    {
     "data": {
      "text/plain": [
       "Unnamed: 0                                                  13\n",
       "id                                                565014800033\n",
       "name_x                                 SCIC VALDURANCE HABITAT\n",
       "street_number                                              2.0\n",
       "street_type                                                RUE\n",
       "street_name                            DU DOCTEUR SIMON PIETRI\n",
       "address_line2                                              NaN\n",
       "postal_code                                               4000\n",
       "city                                           DIGNE-LES-BAINS\n",
       "address          Bp 169 2 r Doct Piétri, 04000 DIGNE LES BAINS\n",
       "website                                                    NaN\n",
       "name_y                                 Valdurance Habitat SCIC\n",
       "Name: 13, dtype: object"
      ]
     },
     "execution_count": 10,
     "metadata": {},
     "output_type": "execute_result"
    }
   ],
   "source": [
    "s1_s2_commonids.iloc[13]"
   ]
  },
  {
   "cell_type": "code",
   "execution_count": 135,
   "id": "fd0976cf",
   "metadata": {},
   "outputs": [
    {
     "name": "stdout",
     "output_type": "stream",
     "text": [
      "('HPTTSKFLTRNS', '')\n",
      "('HPTTSKFLTRNS', '')\n"
     ]
    }
   ],
   "source": [
    "x_ = 'SCIC VALDURANCE HABITAT'.split(' ')\n",
    "x_.sort()\n",
    "x_ = ' '.join(x_)\n",
    "print(doublemetaphone(x_))\n",
    "\n",
    "y_ = 'Valdurance Habitat SCIC'.split(' ')\n",
    "y_.sort()\n",
    "y_ = ' '.join(y_)\n",
    "print(doublemetaphone(y_))"
   ]
  },
  {
   "cell_type": "code",
   "execution_count": 137,
   "id": "9044e194",
   "metadata": {},
   "outputs": [
    {
     "data": {
      "text/plain": [
       "'Habitat SCIC Valdurance'"
      ]
     },
     "execution_count": 137,
     "metadata": {},
     "output_type": "execute_result"
    }
   ],
   "source": [
    "y_"
   ]
  },
  {
   "cell_type": "code",
   "execution_count": 124,
   "id": "eb7845ed",
   "metadata": {},
   "outputs": [
    {
     "data": {
      "text/plain": [
       "('SKFLTRNSPTT', '')"
      ]
     },
     "execution_count": 124,
     "metadata": {},
     "output_type": "execute_result"
    }
   ],
   "source": [
    "doublemetaphone('SCIC VALDURANCE HABITAT')"
   ]
  },
  {
   "cell_type": "code",
   "execution_count": 125,
   "id": "aa946a2a",
   "metadata": {},
   "outputs": [
    {
     "data": {
      "text/plain": [
       "('FLTRNSPTTSK', '')"
      ]
     },
     "execution_count": 125,
     "metadata": {},
     "output_type": "execute_result"
    }
   ],
   "source": [
    "doublemetaphone('Valdurance Habitat SCIC')"
   ]
  },
  {
   "cell_type": "code",
   "execution_count": 45,
   "id": "24705476",
   "metadata": {},
   "outputs": [
    {
     "data": {
      "text/plain": [
       "\"SOCIETE D'EXERCICE LIBERALE A RESPONSABILITE LIMITEE DE CHIRURGIENS DENTISTES PATRICK SEBAG\""
      ]
     },
     "execution_count": 45,
     "metadata": {},
     "output_type": "execute_result"
    }
   ],
   "source": [
    "s1_s2_commonids.iloc[770311]['name_x']"
   ]
  },
  {
   "cell_type": "code",
   "execution_count": 54,
   "id": "b71ae10d",
   "metadata": {},
   "outputs": [
    {
     "data": {
      "text/plain": [
       "\"A CHIRURGIENS D'EXERCICE DE DENTISTES LIBERALE LIMITEE PATRICK RESPONSABILITE SEBAG SOCIETE\""
      ]
     },
     "execution_count": 54,
     "metadata": {},
     "output_type": "execute_result"
    }
   ],
   "source": [
    "x = s1_s2_commonids.iloc[770311]['name_x'].split(' ')\n",
    "x.sort()\n",
    "x = ' '.join(x)\n",
    "x"
   ]
  },
  {
   "cell_type": "code",
   "execution_count": 46,
   "id": "3cb84949",
   "metadata": {},
   "outputs": [
    {
     "data": {
      "text/plain": [
       "'Chirurgiens Dentistes Patr'"
      ]
     },
     "execution_count": 46,
     "metadata": {},
     "output_type": "execute_result"
    }
   ],
   "source": [
    "s1_s2_commonids.iloc[770311]['name_y']"
   ]
  },
  {
   "cell_type": "code",
   "execution_count": 58,
   "id": "7630a9f2",
   "metadata": {},
   "outputs": [
    {
     "data": {
      "text/plain": [
       "'Chirurgiens Dentistes Patr'"
      ]
     },
     "execution_count": 58,
     "metadata": {},
     "output_type": "execute_result"
    }
   ],
   "source": [
    "y = s1_s2_commonids.iloc[770311]['name_y'].split(' ')\n",
    "y.sort()\n",
    "y = ' '.join(y)\n",
    "y"
   ]
  },
  {
   "cell_type": "code",
   "execution_count": 59,
   "id": "1f22ad48",
   "metadata": {},
   "outputs": [
    {
     "data": {
      "text/plain": [
       "('AXRRJNSTTKSRSSTTNTSTSLPRLLMTPTRKRSPNSPLTSPKSST',\n",
       " 'AKRRKNSTTKSRSSTTNTSTSLPRLLMTPTRKRSPNSPLTSPKSXT')"
      ]
     },
     "execution_count": 59,
     "metadata": {},
     "output_type": "execute_result"
    }
   ],
   "source": [
    "doublemetaphone(x)"
   ]
  },
  {
   "cell_type": "code",
   "execution_count": 63,
   "id": "349d0cc3",
   "metadata": {},
   "outputs": [
    {
     "data": {
      "text/plain": [
       "('XRRJNSTNTSTSPTR', 'XRRKNSTNTSTSPTR')"
      ]
     },
     "execution_count": 63,
     "metadata": {},
     "output_type": "execute_result"
    }
   ],
   "source": [
    "doublemetaphone(y)"
   ]
  },
  {
   "cell_type": "code",
   "execution_count": 145,
   "id": "bd22c822",
   "metadata": {},
   "outputs": [
    {
     "name": "stdout",
     "output_type": "stream",
     "text": [
      "['']\n"
     ]
    }
   ],
   "source": [
    "print(get_overlap('THR', ''))"
   ]
  },
  {
   "cell_type": "code",
   "execution_count": 132,
   "id": "4958abbd",
   "metadata": {},
   "outputs": [
    {
     "data": {
      "text/plain": [
       "'FLTRNSPTT'"
      ]
     },
     "execution_count": 132,
     "metadata": {},
     "output_type": "execute_result"
    }
   ],
   "source": [
    "''.join(get_overlap(doublemetaphone('Valdurance Habitat SCIC')[0], doublemetaphone('SCIC VALDURANCE HABITAT')[0]))"
   ]
  },
  {
   "cell_type": "code",
   "execution_count": 95,
   "id": "285e5fb2",
   "metadata": {},
   "outputs": [
    {
     "data": {
      "text/plain": [
       "('JNL', 'ANL')"
      ]
     },
     "execution_count": 95,
     "metadata": {},
     "output_type": "execute_result"
    }
   ],
   "source": [
    "doublemetaphone('JANELI')"
   ]
  },
  {
   "cell_type": "code",
   "execution_count": 96,
   "id": "559dbb20",
   "metadata": {},
   "outputs": [
    {
     "data": {
      "text/plain": [
       "('ANTRMRXSPR', 'ANTRMRKSPR')"
      ]
     },
     "execution_count": 96,
     "metadata": {},
     "output_type": "execute_result"
    }
   ],
   "source": [
    "doublemetaphone('Intermarché Super')"
   ]
  },
  {
   "cell_type": "markdown",
   "id": "fd410180",
   "metadata": {},
   "source": [
    "# My Algorithm for Similarity MAtching for Strings"
   ]
  },
  {
   "cell_type": "code",
   "execution_count": 43,
   "id": "16e91a6c",
   "metadata": {},
   "outputs": [],
   "source": [
    "def get_overlap(s1, s2):\n",
    "    # From: https://stackoverflow.com/questions/14128763/how-to-find-the-overlap-between-2-sequences-and-return-it\n",
    "    s = difflib.SequenceMatcher(None, s1, s2)\n",
    "    list_t = s.get_matching_blocks()\n",
    "    #print(list_t)\n",
    "    best_overlaps = []\n",
    "    for i in range(len(list_t)):\n",
    "        best_overlaps.append(s1[list_t[i][0]:list_t[i][0]+list_t[i][2]])\n",
    "    return best_overlaps\n",
    "\n",
    "def get_match_score(s1_name, s2_name):\n",
    "    \n",
    "    s1_ = s1_name.split(' ')\n",
    "    s1_.sort()\n",
    "    s1_ = ' '.join(s1_)\n",
    "    s1_name_dmp = doublemetaphone(s1_)\n",
    "    #print(s1_name_dmp)\n",
    "    s2_ = s2_name.split(' ')\n",
    "    s2_.sort()\n",
    "    s2_ = ' '.join(s2_)\n",
    "    s2_name_dmp = doublemetaphone(s2_)\n",
    "    #print(s2_name_dmp)\n",
    "    \n",
    "    t1_t1_overlap = ''.join(get_overlap(s1_name_dmp[0], s2_name_dmp[0]))\n",
    "    if s1_name_dmp[1] == '' and s2_name_dmp[1] == '':\n",
    "        t2_t2_overlap = [1]\n",
    "    else:\n",
    "        t2_t2_overlap = ''.join(get_overlap(s1_name_dmp[1], s2_name_dmp[1]))\n",
    "    t1_t2_overlap = ''.join(get_overlap(s1_name_dmp[0], s2_name_dmp[1]))\n",
    "    t2_t1_overlap = ''.join(get_overlap(s1_name_dmp[1], s2_name_dmp[0]))\n",
    "    \n",
    "    t1_t1_score = len(t1_t1_overlap)/max(len(s1_name_dmp[0]), len(s2_name_dmp[0]), 1)\n",
    "    t2_t2_score = len(t2_t2_overlap)/max(len(s1_name_dmp[1]), len(s2_name_dmp[1]), 1)\n",
    "    t1_t2_score = len(t1_t2_overlap)/max(len(s1_name_dmp[0]), len(s2_name_dmp[1]), 1)\n",
    "    t2_t1_score = len(t2_t1_overlap)/max(len(s1_name_dmp[1]), len(s2_name_dmp[0]), 1)\n",
    "    \n",
    "    match_score = t1_t1_score + 0.5*t2_t2_score + 0.25*(t1_t2_score + t2_t1_score)\n",
    "    \n",
    "    return match_score"
   ]
  },
  {
   "cell_type": "code",
   "execution_count": 45,
   "id": "df1014d6",
   "metadata": {},
   "outputs": [
    {
     "data": {
      "text/plain": [
       "0.2884615384615385"
      ]
     },
     "execution_count": 45,
     "metadata": {},
     "output_type": "execute_result"
    }
   ],
   "source": [
    "get_match_score('av Gare, ANNOT','GARE DES CHEMINS DE FER DE PROVENCE ZONE DE LA GARE, ANNOT')"
   ]
  },
  {
   "cell_type": "code",
   "execution_count": 46,
   "id": "564eecc4",
   "metadata": {},
   "outputs": [
    {
     "data": {
      "text/plain": [
       "0.625"
      ]
     },
     "execution_count": 46,
     "metadata": {},
     "output_type": "execute_result"
    }
   ],
   "source": [
    "get_match_score('Chirurgiens Dentistes Patr',\"SOCIETE D'EXERCICE LIBERALE A RESPONSABILITE LIMITEE DE CHIRURGIENS DENTISTES PATRICK SEBAG\")"
   ]
  },
  {
   "cell_type": "code",
   "execution_count": 48,
   "id": "b90862b4",
   "metadata": {},
   "outputs": [
    {
     "data": {
      "text/plain": [
       "1.5"
      ]
     },
     "execution_count": 48,
     "metadata": {},
     "output_type": "execute_result"
    }
   ],
   "source": [
    "get_match_score('Taher ALi Habib', 'HABIB Taher ALi')"
   ]
  },
  {
   "cell_type": "code",
   "execution_count": 50,
   "id": "daa4730f",
   "metadata": {},
   "outputs": [
    {
     "data": {
      "text/plain": [
       "0.3352272727272727"
      ]
     },
     "execution_count": 50,
     "metadata": {},
     "output_type": "execute_result"
    }
   ],
   "source": [
    "get_match_score('pl Revelly, 04240 ANNOT', 'QUA QUARTIER DE LA BEITE,4240 ANNOT')"
   ]
  },
  {
   "cell_type": "code",
   "execution_count": 52,
   "id": "f1768fb9",
   "metadata": {},
   "outputs": [
    {
     "data": {
      "text/plain": [
       "0.85"
      ]
     },
     "execution_count": 52,
     "metadata": {},
     "output_type": "execute_result"
    }
   ],
   "source": [
    "get_match_score('rte 2 Vallées, 80100 ABBEVILLE', 'RTE DES DEUX VALLEES,80100 ABBEVILLE')"
   ]
  },
  {
   "cell_type": "code",
   "execution_count": 141,
   "id": "4352a3ba",
   "metadata": {},
   "outputs": [
    {
     "data": {
      "text/plain": [
       "'THR'"
      ]
     },
     "execution_count": 141,
     "metadata": {},
     "output_type": "execute_result"
    }
   ],
   "source": [
    "''.join(get_overlap(doublemetaphone('Taher')[0], doublemetaphone('Taher')[0]))"
   ]
  },
  {
   "cell_type": "code",
   "execution_count": 142,
   "id": "19de0fd3",
   "metadata": {},
   "outputs": [
    {
     "data": {
      "text/plain": [
       "''"
      ]
     },
     "execution_count": 142,
     "metadata": {},
     "output_type": "execute_result"
    }
   ],
   "source": [
    "''.join(get_overlap(doublemetaphone('Taher')[1], doublemetaphone('Taher')[1]))"
   ]
  },
  {
   "cell_type": "code",
   "execution_count": 143,
   "id": "f47dd31d",
   "metadata": {},
   "outputs": [
    {
     "data": {
      "text/plain": [
       "''"
      ]
     },
     "execution_count": 143,
     "metadata": {},
     "output_type": "execute_result"
    }
   ],
   "source": [
    "''.join(get_overlap(doublemetaphone('Taher')[0], doublemetaphone('Taher')[1]))"
   ]
  },
  {
   "cell_type": "code",
   "execution_count": 144,
   "id": "779b023d",
   "metadata": {},
   "outputs": [
    {
     "data": {
      "text/plain": [
       "''"
      ]
     },
     "execution_count": 144,
     "metadata": {},
     "output_type": "execute_result"
    }
   ],
   "source": [
    "''.join(get_overlap(doublemetaphone('Taher')[1], doublemetaphone('Taher')[0]))"
   ]
  },
  {
   "cell_type": "code",
   "execution_count": null,
   "id": "56e66320",
   "metadata": {},
   "outputs": [],
   "source": [
    "from thefuzz import fuzz"
   ]
  },
  {
   "cell_type": "code",
   "execution_count": 38,
   "id": "0078b5be",
   "metadata": {},
   "outputs": [
    {
     "data": {
      "text/plain": [
       "31"
      ]
     },
     "execution_count": 38,
     "metadata": {},
     "output_type": "execute_result"
    }
   ],
   "source": [
    "fuzz.token_sort_ratio('av Gare, ANNOT','GARE DES CHEMINS DE FER DE PROVENCE ZONE DE LA GARE, ANNOT')"
   ]
  },
  {
   "cell_type": "code",
   "execution_count": 47,
   "id": "f0ac0155",
   "metadata": {},
   "outputs": [
    {
     "data": {
      "text/plain": [
       "44"
      ]
     },
     "execution_count": 47,
     "metadata": {},
     "output_type": "execute_result"
    }
   ],
   "source": [
    "fuzz.token_sort_ratio('Chirurgiens Dentistes Patr',\"SOCIETE D'EXERCICE LIBERALE A RESPONSABILITE LIMITEE DE CHIRURGIENS DENTISTES PATRICK SEBAG\")"
   ]
  },
  {
   "cell_type": "code",
   "execution_count": 49,
   "id": "da31acd4",
   "metadata": {},
   "outputs": [
    {
     "data": {
      "text/plain": [
       "100"
      ]
     },
     "execution_count": 49,
     "metadata": {},
     "output_type": "execute_result"
    }
   ],
   "source": [
    "fuzz.token_sort_ratio('Taher ALi Habib', 'HABIB Taher ALi')"
   ]
  },
  {
   "cell_type": "code",
   "execution_count": 51,
   "id": "4fe97959",
   "metadata": {},
   "outputs": [
    {
     "data": {
      "text/plain": [
       "53"
      ]
     },
     "execution_count": 51,
     "metadata": {},
     "output_type": "execute_result"
    }
   ],
   "source": [
    "fuzz.token_sort_ratio('pl Revelly, 04240 ANNOT', 'QUA QUARTIER DE LA BEITE,4240 ANNOT')"
   ]
  },
  {
   "cell_type": "code",
   "execution_count": 53,
   "id": "b52a9e5e",
   "metadata": {},
   "outputs": [
    {
     "data": {
      "text/plain": [
       "81"
      ]
     },
     "execution_count": 53,
     "metadata": {},
     "output_type": "execute_result"
    }
   ],
   "source": [
    "fuzz.token_sort_ratio('rte 2 Vallées, 80100 ABBEVILLE', 'RTE DES DEUX VALLEES,80100 ABBEVILLE')"
   ]
  },
  {
   "cell_type": "markdown",
   "id": "b1c52f7e",
   "metadata": {},
   "source": [
    "### Conclusions"
   ]
  },
  {
   "cell_type": "markdown",
   "id": "6fbd4d77",
   "metadata": {},
   "source": [
    "1. _String Fuzzy matcher from the library __'thefuzz'__ is performing quite better than my own function_\n",
    "2. It can match both names as well as addresses equally reliably\n",
    "\n",
    "See here: https://github.com/seatgeek/thefuzz"
   ]
  },
  {
   "cell_type": "markdown",
   "id": "3cb0d14d",
   "metadata": {},
   "source": [
    "# Using Recordlinkage\n",
    "\n",
    "see here: https://recordlinkage.readthedocs.io/en/latest/about.html & https://pbpython.com/record-linking.html"
   ]
  },
  {
   "cell_type": "markdown",
   "id": "80a09dfa",
   "metadata": {},
   "source": [
    "### Cleaning using recordlinkage"
   ]
  },
  {
   "cell_type": "code",
   "execution_count": 19,
   "id": "a6066291",
   "metadata": {},
   "outputs": [],
   "source": [
    "from recordlinkage.preprocessing import clean"
   ]
  },
  {
   "cell_type": "code",
   "execution_count": 13,
   "id": "29aef198",
   "metadata": {},
   "outputs": [
    {
     "name": "stderr",
     "output_type": "stream",
     "text": [
      "/home/thabib/anaconda3/envs/nlp_siddata/lib/python3.8/site-packages/recordlinkage/preprocessing/cleaning.py:114: FutureWarning: The default value of regex will change from True to False in a future version.\n",
      "  s = s.str.replace(r'(\\[.*?\\]|\\(.*?\\)|\\{.*?\\})', '')\n",
      "/home/thabib/anaconda3/envs/nlp_siddata/lib/python3.8/site-packages/recordlinkage/preprocessing/cleaning.py:118: FutureWarning: The default value of regex will change from True to False in a future version.\n",
      "  s = s.str.replace(replace_by_none, '')\n",
      "/home/thabib/anaconda3/envs/nlp_siddata/lib/python3.8/site-packages/recordlinkage/preprocessing/cleaning.py:121: FutureWarning: The default value of regex will change from True to False in a future version.\n",
      "  s = s.str.replace(replace_by_whitespace, ' ')\n",
      "/home/thabib/anaconda3/envs/nlp_siddata/lib/python3.8/site-packages/recordlinkage/preprocessing/cleaning.py:124: FutureWarning: The default value of regex will change from True to False in a future version.\n",
      "  s = s.str.replace(r'\\s\\s+', ' ')\n"
     ]
    }
   ],
   "source": [
    "s1['name'] = clean(s1['name'], strip_accents='unicode')\n",
    "s1['street_name'] = clean(s1['street_name'], strip_accents='unicode')\n",
    "s1['street_type'] = clean(s1['street_type'], strip_accents='unicode')\n",
    "s1['address_line2'] = clean(s1['address_line2'], strip_accents='unicode')\n",
    "s1['city'] = clean(s1['city'], strip_accents='unicode')"
   ]
  },
  {
   "cell_type": "code",
   "execution_count": 14,
   "id": "01b83b24",
   "metadata": {},
   "outputs": [
    {
     "data": {
      "text/html": [
       "<div>\n",
       "<style scoped>\n",
       "    .dataframe tbody tr th:only-of-type {\n",
       "        vertical-align: middle;\n",
       "    }\n",
       "\n",
       "    .dataframe tbody tr th {\n",
       "        vertical-align: top;\n",
       "    }\n",
       "\n",
       "    .dataframe thead th {\n",
       "        text-align: right;\n",
       "    }\n",
       "</style>\n",
       "<table border=\"1\" class=\"dataframe\">\n",
       "  <thead>\n",
       "    <tr style=\"text-align: right;\">\n",
       "      <th></th>\n",
       "      <th>id</th>\n",
       "      <th>name</th>\n",
       "      <th>street_number</th>\n",
       "      <th>street_type</th>\n",
       "      <th>street_name</th>\n",
       "      <th>address_line2</th>\n",
       "      <th>postal_code</th>\n",
       "      <th>city</th>\n",
       "    </tr>\n",
       "  </thead>\n",
       "  <tbody>\n",
       "    <tr>\n",
       "      <th>0</th>\n",
       "      <td>542012000015</td>\n",
       "      <td>societe des sucreries du marquenterre</td>\n",
       "      <td>NaN</td>\n",
       "      <td>rue</td>\n",
       "      <td>de la fontaine</td>\n",
       "      <td>NaN</td>\n",
       "      <td>80120</td>\n",
       "      <td>rue</td>\n",
       "    </tr>\n",
       "    <tr>\n",
       "      <th>1</th>\n",
       "      <td>542012000031</td>\n",
       "      <td>societe des sucreries du marquenterre</td>\n",
       "      <td>NaN</td>\n",
       "      <td>rte</td>\n",
       "      <td>nationale</td>\n",
       "      <td>NaN</td>\n",
       "      <td>62140</td>\n",
       "      <td>marconnelle</td>\n",
       "    </tr>\n",
       "    <tr>\n",
       "      <th>2</th>\n",
       "      <td>545011900028</td>\n",
       "      <td>le grand cafe et gassendi</td>\n",
       "      <td>NaN</td>\n",
       "      <td>NaN</td>\n",
       "      <td>saint christophe</td>\n",
       "      <td>route de marseille</td>\n",
       "      <td>4000</td>\n",
       "      <td>digne les bains</td>\n",
       "    </tr>\n",
       "    <tr>\n",
       "      <th>3</th>\n",
       "      <td>552017600016</td>\n",
       "      <td>hernas cartonnage</td>\n",
       "      <td>50.0</td>\n",
       "      <td>rue</td>\n",
       "      <td>pasteur</td>\n",
       "      <td>NaN</td>\n",
       "      <td>80210</td>\n",
       "      <td>feuquieres en vimeu</td>\n",
       "    </tr>\n",
       "    <tr>\n",
       "      <th>4</th>\n",
       "      <td>552017600032</td>\n",
       "      <td>hernas cartonnage</td>\n",
       "      <td>NaN</td>\n",
       "      <td>NaN</td>\n",
       "      <td>zone des hayettes</td>\n",
       "      <td>NaN</td>\n",
       "      <td>80210</td>\n",
       "      <td>chepy</td>\n",
       "    </tr>\n",
       "    <tr>\n",
       "      <th>...</th>\n",
       "      <td>...</td>\n",
       "      <td>...</td>\n",
       "      <td>...</td>\n",
       "      <td>...</td>\n",
       "      <td>...</td>\n",
       "      <td>...</td>\n",
       "      <td>...</td>\n",
       "      <td>...</td>\n",
       "    </tr>\n",
       "    <tr>\n",
       "      <th>1826164</th>\n",
       "      <td>90771119600010</td>\n",
       "      <td>bionormande</td>\n",
       "      <td>NaN</td>\n",
       "      <td>rue</td>\n",
       "      <td>de la grande flandre</td>\n",
       "      <td>lot 1 7 a</td>\n",
       "      <td>76270</td>\n",
       "      <td>neufchatel en bray</td>\n",
       "    </tr>\n",
       "    <tr>\n",
       "      <th>1826165</th>\n",
       "      <td>90771120400012</td>\n",
       "      <td>ahela bat</td>\n",
       "      <td>18.0</td>\n",
       "      <td>rue</td>\n",
       "      <td>saint clement</td>\n",
       "      <td>NaN</td>\n",
       "      <td>93200</td>\n",
       "      <td>saint denis</td>\n",
       "    </tr>\n",
       "    <tr>\n",
       "      <th>1826166</th>\n",
       "      <td>90771121200015</td>\n",
       "      <td>deco batiment</td>\n",
       "      <td>7.0</td>\n",
       "      <td>rue</td>\n",
       "      <td>auguste blanqui</td>\n",
       "      <td>NaN</td>\n",
       "      <td>93200</td>\n",
       "      <td>saint denis</td>\n",
       "    </tr>\n",
       "    <tr>\n",
       "      <th>1826167</th>\n",
       "      <td>90760906900014</td>\n",
       "      <td>chateaux merveilles</td>\n",
       "      <td>15.0</td>\n",
       "      <td>rue</td>\n",
       "      <td>de milan</td>\n",
       "      <td>NaN</td>\n",
       "      <td>75009</td>\n",
       "      <td>paris 9</td>\n",
       "    </tr>\n",
       "    <tr>\n",
       "      <th>1826168</th>\n",
       "      <td>90760963000013</td>\n",
       "      <td>cap armade</td>\n",
       "      <td>140.0</td>\n",
       "      <td>rue</td>\n",
       "      <td>de tocqueville</td>\n",
       "      <td>NaN</td>\n",
       "      <td>75017</td>\n",
       "      <td>paris 17</td>\n",
       "    </tr>\n",
       "  </tbody>\n",
       "</table>\n",
       "<p>1826169 rows × 8 columns</p>\n",
       "</div>"
      ],
      "text/plain": [
       "                     id                                   name  street_number  \\\n",
       "0          542012000015  societe des sucreries du marquenterre            NaN   \n",
       "1          542012000031  societe des sucreries du marquenterre            NaN   \n",
       "2          545011900028              le grand cafe et gassendi            NaN   \n",
       "3          552017600016                      hernas cartonnage           50.0   \n",
       "4          552017600032                      hernas cartonnage            NaN   \n",
       "...                 ...                                    ...            ...   \n",
       "1826164  90771119600010                            bionormande            NaN   \n",
       "1826165  90771120400012                              ahela bat           18.0   \n",
       "1826166  90771121200015                          deco batiment            7.0   \n",
       "1826167  90760906900014                    chateaux merveilles           15.0   \n",
       "1826168  90760963000013                             cap armade          140.0   \n",
       "\n",
       "        street_type           street_name       address_line2  postal_code  \\\n",
       "0               rue        de la fontaine                 NaN        80120   \n",
       "1               rte             nationale                 NaN        62140   \n",
       "2               NaN      saint christophe  route de marseille         4000   \n",
       "3               rue               pasteur                 NaN        80210   \n",
       "4               NaN     zone des hayettes                 NaN        80210   \n",
       "...             ...                   ...                 ...          ...   \n",
       "1826164         rue  de la grande flandre           lot 1 7 a        76270   \n",
       "1826165         rue         saint clement                 NaN        93200   \n",
       "1826166         rue       auguste blanqui                 NaN        93200   \n",
       "1826167         rue              de milan                 NaN        75009   \n",
       "1826168         rue        de tocqueville                 NaN        75017   \n",
       "\n",
       "                        city  \n",
       "0                        rue  \n",
       "1                marconnelle  \n",
       "2            digne les bains  \n",
       "3        feuquieres en vimeu  \n",
       "4                      chepy  \n",
       "...                      ...  \n",
       "1826164   neufchatel en bray  \n",
       "1826165          saint denis  \n",
       "1826166          saint denis  \n",
       "1826167              paris 9  \n",
       "1826168             paris 17  \n",
       "\n",
       "[1826169 rows x 8 columns]"
      ]
     },
     "metadata": {},
     "output_type": "display_data"
    }
   ],
   "source": [
    "display(s1)"
   ]
  },
  {
   "cell_type": "code",
   "execution_count": 15,
   "id": "f893da4d",
   "metadata": {},
   "outputs": [
    {
     "name": "stderr",
     "output_type": "stream",
     "text": [
      "/home/thabib/anaconda3/envs/nlp_siddata/lib/python3.8/site-packages/recordlinkage/preprocessing/cleaning.py:114: FutureWarning: The default value of regex will change from True to False in a future version.\n",
      "  s = s.str.replace(r'(\\[.*?\\]|\\(.*?\\)|\\{.*?\\})', '')\n",
      "/home/thabib/anaconda3/envs/nlp_siddata/lib/python3.8/site-packages/recordlinkage/preprocessing/cleaning.py:118: FutureWarning: The default value of regex will change from True to False in a future version.\n",
      "  s = s.str.replace(replace_by_none, '')\n",
      "/home/thabib/anaconda3/envs/nlp_siddata/lib/python3.8/site-packages/recordlinkage/preprocessing/cleaning.py:121: FutureWarning: The default value of regex will change from True to False in a future version.\n",
      "  s = s.str.replace(replace_by_whitespace, ' ')\n",
      "/home/thabib/anaconda3/envs/nlp_siddata/lib/python3.8/site-packages/recordlinkage/preprocessing/cleaning.py:124: FutureWarning: The default value of regex will change from True to False in a future version.\n",
      "  s = s.str.replace(r'\\s\\s+', ' ')\n"
     ]
    }
   ],
   "source": [
    "s2_nond['name'] = clean(s2_nond['name'], strip_accents='unicode')\n",
    "s2_nond['address'] = clean(s2_nond['address'], strip_accents='unicode')"
   ]
  },
  {
   "cell_type": "code",
   "execution_count": 16,
   "id": "227e2e2a",
   "metadata": {},
   "outputs": [
    {
     "data": {
      "text/html": [
       "<div>\n",
       "<style scoped>\n",
       "    .dataframe tbody tr th:only-of-type {\n",
       "        vertical-align: middle;\n",
       "    }\n",
       "\n",
       "    .dataframe tbody tr th {\n",
       "        vertical-align: top;\n",
       "    }\n",
       "\n",
       "    .dataframe thead th {\n",
       "        text-align: right;\n",
       "    }\n",
       "</style>\n",
       "<table border=\"1\" class=\"dataframe\">\n",
       "  <thead>\n",
       "    <tr style=\"text-align: right;\">\n",
       "      <th></th>\n",
       "      <th>Unnamed: 0</th>\n",
       "      <th>address</th>\n",
       "      <th>website</th>\n",
       "      <th>id</th>\n",
       "      <th>name</th>\n",
       "    </tr>\n",
       "  </thead>\n",
       "  <tbody>\n",
       "    <tr>\n",
       "      <th>0</th>\n",
       "      <td>1</td>\n",
       "      <td>50 rte bage 01380 saint cyr sur menthon</td>\n",
       "      <td>NaN</td>\n",
       "      <td>84122632700010</td>\n",
       "      <td>sarl landrix freres</td>\n",
       "    </tr>\n",
       "    <tr>\n",
       "      <th>1</th>\n",
       "      <td>2</td>\n",
       "      <td>120 r menthon 01380 saint cyr sur menthon</td>\n",
       "      <td>NaN</td>\n",
       "      <td>79134582000025</td>\n",
       "      <td>marion kwasniewski</td>\n",
       "    </tr>\n",
       "    <tr>\n",
       "      <th>2</th>\n",
       "      <td>4</td>\n",
       "      <td>350 rte loeze 01380 saint cyr sur menthon</td>\n",
       "      <td>NaN</td>\n",
       "      <td>43416176600010</td>\n",
       "      <td>manigand stephane</td>\n",
       "    </tr>\n",
       "    <tr>\n",
       "      <th>3</th>\n",
       "      <td>5</td>\n",
       "      <td>41 r centre 01380 saint cyr sur menthon</td>\n",
       "      <td>http://www.infirmiere-frederique-thevenard.fr</td>\n",
       "      <td>48854644100012</td>\n",
       "      <td>frederique thevenard</td>\n",
       "    </tr>\n",
       "    <tr>\n",
       "      <th>4</th>\n",
       "      <td>6</td>\n",
       "      <td>116 chem cochatieres 01380 saint cyr sur menthon</td>\n",
       "      <td>NaN</td>\n",
       "      <td>41811188600028</td>\n",
       "      <td>garnier xavier</td>\n",
       "    </tr>\n",
       "    <tr>\n",
       "      <th>...</th>\n",
       "      <td>...</td>\n",
       "      <td>...</td>\n",
       "      <td>...</td>\n",
       "      <td>...</td>\n",
       "      <td>...</td>\n",
       "    </tr>\n",
       "    <tr>\n",
       "      <th>2271357</th>\n",
       "      <td>3530296</td>\n",
       "      <td>2 av chateau 83150 bandol</td>\n",
       "      <td>NaN</td>\n",
       "      <td>30130663500097</td>\n",
       "      <td>carlot jean francois</td>\n",
       "    </tr>\n",
       "    <tr>\n",
       "      <th>2271358</th>\n",
       "      <td>3530297</td>\n",
       "      <td>NaN</td>\n",
       "      <td>NaN</td>\n",
       "      <td>84978102600018</td>\n",
       "      <td>jacoby o</td>\n",
       "    </tr>\n",
       "    <tr>\n",
       "      <th>2271359</th>\n",
       "      <td>3530299</td>\n",
       "      <td>5 r jardins 83150 bandol</td>\n",
       "      <td>http://aquabike-en-mer.com</td>\n",
       "      <td>79518496900025</td>\n",
       "      <td>calvet richard</td>\n",
       "    </tr>\n",
       "    <tr>\n",
       "      <th>2271360</th>\n",
       "      <td>3530300</td>\n",
       "      <td>54 traverse laboureur 83150 bandol</td>\n",
       "      <td>http://dolcefarnientebandol.com</td>\n",
       "      <td>53925863200014</td>\n",
       "      <td>dolce far niente</td>\n",
       "    </tr>\n",
       "    <tr>\n",
       "      <th>2271361</th>\n",
       "      <td>3530301</td>\n",
       "      <td>9 r tonneliers 83150 bandol</td>\n",
       "      <td>NaN</td>\n",
       "      <td>40091957700025</td>\n",
       "      <td>cordonnerie nouvelle</td>\n",
       "    </tr>\n",
       "  </tbody>\n",
       "</table>\n",
       "<p>2271362 rows × 5 columns</p>\n",
       "</div>"
      ],
      "text/plain": [
       "         Unnamed: 0                                           address  \\\n",
       "0                 1           50 rte bage 01380 saint cyr sur menthon   \n",
       "1                 2         120 r menthon 01380 saint cyr sur menthon   \n",
       "2                 4         350 rte loeze 01380 saint cyr sur menthon   \n",
       "3                 5           41 r centre 01380 saint cyr sur menthon   \n",
       "4                 6  116 chem cochatieres 01380 saint cyr sur menthon   \n",
       "...             ...                                               ...   \n",
       "2271357     3530296                         2 av chateau 83150 bandol   \n",
       "2271358     3530297                                               NaN   \n",
       "2271359     3530299                          5 r jardins 83150 bandol   \n",
       "2271360     3530300                54 traverse laboureur 83150 bandol   \n",
       "2271361     3530301                       9 r tonneliers 83150 bandol   \n",
       "\n",
       "                                               website              id  \\\n",
       "0                                                  NaN  84122632700010   \n",
       "1                                                  NaN  79134582000025   \n",
       "2                                                  NaN  43416176600010   \n",
       "3        http://www.infirmiere-frederique-thevenard.fr  48854644100012   \n",
       "4                                                  NaN  41811188600028   \n",
       "...                                                ...             ...   \n",
       "2271357                                            NaN  30130663500097   \n",
       "2271358                                            NaN  84978102600018   \n",
       "2271359                     http://aquabike-en-mer.com  79518496900025   \n",
       "2271360                http://dolcefarnientebandol.com  53925863200014   \n",
       "2271361                                            NaN  40091957700025   \n",
       "\n",
       "                         name  \n",
       "0         sarl landrix freres  \n",
       "1          marion kwasniewski  \n",
       "2           manigand stephane  \n",
       "3        frederique thevenard  \n",
       "4              garnier xavier  \n",
       "...                       ...  \n",
       "2271357  carlot jean francois  \n",
       "2271358              jacoby o  \n",
       "2271359        calvet richard  \n",
       "2271360      dolce far niente  \n",
       "2271361  cordonnerie nouvelle  \n",
       "\n",
       "[2271362 rows x 5 columns]"
      ]
     },
     "metadata": {},
     "output_type": "display_data"
    }
   ],
   "source": [
    "display(s2_nond)"
   ]
  },
  {
   "cell_type": "code",
   "execution_count": 18,
   "id": "0989fe3c",
   "metadata": {},
   "outputs": [],
   "source": [
    "s2_nond.to_csv('./source2_nonanids_nod_cstr.csv', index=False)"
   ]
  },
  {
   "cell_type": "code",
   "execution_count": 37,
   "id": "be5a8bf0",
   "metadata": {},
   "outputs": [
    {
     "data": {
      "text/html": [
       "<div>\n",
       "<style scoped>\n",
       "    .dataframe tbody tr th:only-of-type {\n",
       "        vertical-align: middle;\n",
       "    }\n",
       "\n",
       "    .dataframe tbody tr th {\n",
       "        vertical-align: top;\n",
       "    }\n",
       "\n",
       "    .dataframe thead th {\n",
       "        text-align: right;\n",
       "    }\n",
       "</style>\n",
       "<table border=\"1\" class=\"dataframe\">\n",
       "  <thead>\n",
       "    <tr style=\"text-align: right;\">\n",
       "      <th></th>\n",
       "      <th>Unnamed: 0</th>\n",
       "      <th>address</th>\n",
       "      <th>website</th>\n",
       "      <th>id</th>\n",
       "      <th>name</th>\n",
       "    </tr>\n",
       "  </thead>\n",
       "  <tbody>\n",
       "    <tr>\n",
       "      <th>0</th>\n",
       "      <td>1</td>\n",
       "      <td>50 rte bage 01380 saint cyr sur menthon</td>\n",
       "      <td>NaN</td>\n",
       "      <td>84122632700010</td>\n",
       "      <td>sarl landrix freres</td>\n",
       "    </tr>\n",
       "  </tbody>\n",
       "</table>\n",
       "</div>"
      ],
      "text/plain": [
       "   Unnamed: 0                                  address website  \\\n",
       "0           1  50 rte bage 01380 saint cyr sur menthon     NaN   \n",
       "\n",
       "               id                 name  \n",
       "0  84122632700010  sarl landrix freres  "
      ]
     },
     "execution_count": 37,
     "metadata": {},
     "output_type": "execute_result"
    }
   ],
   "source": [
    "s2_nond[s2_nond['id'] == 84122632700010]"
   ]
  },
  {
   "cell_type": "code",
   "execution_count": 38,
   "id": "ad7aaea9",
   "metadata": {},
   "outputs": [
    {
     "data": {
      "text/html": [
       "<div>\n",
       "<style scoped>\n",
       "    .dataframe tbody tr th:only-of-type {\n",
       "        vertical-align: middle;\n",
       "    }\n",
       "\n",
       "    .dataframe tbody tr th {\n",
       "        vertical-align: top;\n",
       "    }\n",
       "\n",
       "    .dataframe thead th {\n",
       "        text-align: right;\n",
       "    }\n",
       "</style>\n",
       "<table border=\"1\" class=\"dataframe\">\n",
       "  <thead>\n",
       "    <tr style=\"text-align: right;\">\n",
       "      <th></th>\n",
       "      <th>id</th>\n",
       "      <th>name</th>\n",
       "      <th>street_number</th>\n",
       "      <th>street_type</th>\n",
       "      <th>street_name</th>\n",
       "      <th>address_line2</th>\n",
       "      <th>postal_code</th>\n",
       "      <th>city</th>\n",
       "    </tr>\n",
       "  </thead>\n",
       "  <tbody>\n",
       "    <tr>\n",
       "      <th>1632255</th>\n",
       "      <td>84122632700010</td>\n",
       "      <td>landrix freres</td>\n",
       "      <td>50.0</td>\n",
       "      <td>rte</td>\n",
       "      <td>de bage</td>\n",
       "      <td>NaN</td>\n",
       "      <td>1380</td>\n",
       "      <td>saint cyr sur menthon</td>\n",
       "    </tr>\n",
       "  </tbody>\n",
       "</table>\n",
       "</div>"
      ],
      "text/plain": [
       "                     id            name  street_number street_type  \\\n",
       "1632255  84122632700010  landrix freres           50.0         rte   \n",
       "\n",
       "        street_name address_line2  postal_code                   city  \n",
       "1632255     de bage           NaN         1380  saint cyr sur menthon  "
      ]
     },
     "execution_count": 38,
     "metadata": {},
     "output_type": "execute_result"
    }
   ],
   "source": [
    "s1[s1['id'] == 84122632700010]"
   ]
  },
  {
   "cell_type": "markdown",
   "id": "966e62fb",
   "metadata": {},
   "source": [
    "### Parsing 'address' in source2 into separate columns"
   ]
  },
  {
   "cell_type": "code",
   "execution_count": 18,
   "id": "9bd411b5",
   "metadata": {},
   "outputs": [],
   "source": [
    "from postal.parser import parse_address\n",
    "\n",
    "# 'city' – city\n",
    "# 'postcode' – psotal_code\n",
    "# 'house_number' – street_number\n",
    "# 'road' – street_name\n",
    "# 'house' OR anything else – address_line2"
   ]
  },
  {
   "cell_type": "code",
   "execution_count": 46,
   "id": "23705f66",
   "metadata": {
    "scrolled": true
   },
   "outputs": [
    {
     "data": {
      "text/html": [
       "<div>\n",
       "<style scoped>\n",
       "    .dataframe tbody tr th:only-of-type {\n",
       "        vertical-align: middle;\n",
       "    }\n",
       "\n",
       "    .dataframe tbody tr th {\n",
       "        vertical-align: top;\n",
       "    }\n",
       "\n",
       "    .dataframe thead th {\n",
       "        text-align: right;\n",
       "    }\n",
       "</style>\n",
       "<table border=\"1\" class=\"dataframe\">\n",
       "  <thead>\n",
       "    <tr style=\"text-align: right;\">\n",
       "      <th></th>\n",
       "      <th>id</th>\n",
       "      <th>name</th>\n",
       "      <th>street_number</th>\n",
       "      <th>street_type</th>\n",
       "      <th>street_name</th>\n",
       "      <th>address_line2</th>\n",
       "      <th>postal_code</th>\n",
       "      <th>city</th>\n",
       "    </tr>\n",
       "  </thead>\n",
       "  <tbody>\n",
       "    <tr>\n",
       "      <th>571</th>\n",
       "      <td>1286320500014</td>\n",
       "      <td>residence surcouf</td>\n",
       "      <td>195.0</td>\n",
       "      <td>cite</td>\n",
       "      <td>mal leclerc</td>\n",
       "      <td>NaN</td>\n",
       "      <td>50100</td>\n",
       "      <td>cherbourg en cotentin</td>\n",
       "    </tr>\n",
       "    <tr>\n",
       "      <th>1136</th>\n",
       "      <td>1485072100011</td>\n",
       "      <td>copropriete le parc</td>\n",
       "      <td>NaN</td>\n",
       "      <td>cite</td>\n",
       "      <td>du parc</td>\n",
       "      <td>NaN</td>\n",
       "      <td>15000</td>\n",
       "      <td>aurillac</td>\n",
       "    </tr>\n",
       "    <tr>\n",
       "      <th>2662</th>\n",
       "      <td>2101471700017</td>\n",
       "      <td>cedres</td>\n",
       "      <td>10.0</td>\n",
       "      <td>cite</td>\n",
       "      <td>epargne</td>\n",
       "      <td>NaN</td>\n",
       "      <td>83000</td>\n",
       "      <td>toulon</td>\n",
       "    </tr>\n",
       "    <tr>\n",
       "      <th>3101</th>\n",
       "      <td>2196242800013</td>\n",
       "      <td>copropriete la rocade</td>\n",
       "      <td>NaN</td>\n",
       "      <td>cite</td>\n",
       "      <td>de la rocade</td>\n",
       "      <td>NaN</td>\n",
       "      <td>84500</td>\n",
       "      <td>bollene</td>\n",
       "    </tr>\n",
       "    <tr>\n",
       "      <th>3341</th>\n",
       "      <td>3272486600010</td>\n",
       "      <td>cop res fontaine mouneyra</td>\n",
       "      <td>NaN</td>\n",
       "      <td>cite</td>\n",
       "      <td>mouneyra</td>\n",
       "      <td>NaN</td>\n",
       "      <td>33000</td>\n",
       "      <td>bordeaux</td>\n",
       "    </tr>\n",
       "    <tr>\n",
       "      <th>...</th>\n",
       "      <td>...</td>\n",
       "      <td>...</td>\n",
       "      <td>...</td>\n",
       "      <td>...</td>\n",
       "      <td>...</td>\n",
       "      <td>...</td>\n",
       "      <td>...</td>\n",
       "      <td>...</td>\n",
       "    </tr>\n",
       "    <tr>\n",
       "      <th>1822927</th>\n",
       "      <td>82145271100046</td>\n",
       "      <td>echo studio</td>\n",
       "      <td>9.0</td>\n",
       "      <td>cite</td>\n",
       "      <td>paradis</td>\n",
       "      <td>NaN</td>\n",
       "      <td>75010</td>\n",
       "      <td>paris 10</td>\n",
       "    </tr>\n",
       "    <tr>\n",
       "      <th>1823219</th>\n",
       "      <td>90758682000017</td>\n",
       "      <td>k corporate</td>\n",
       "      <td>NaN</td>\n",
       "      <td>cite</td>\n",
       "      <td>hlm castelsec</td>\n",
       "      <td>logement 60 esc 4</td>\n",
       "      <td>34120</td>\n",
       "      <td>pezenas</td>\n",
       "    </tr>\n",
       "    <tr>\n",
       "      <th>1823809</th>\n",
       "      <td>90767543300011</td>\n",
       "      <td>tanismad auto</td>\n",
       "      <td>NaN</td>\n",
       "      <td>cite</td>\n",
       "      <td>chaperon vert 3eme avenue</td>\n",
       "      <td>hlm chaperon vert pt 202 esc 12</td>\n",
       "      <td>94250</td>\n",
       "      <td>gentilly</td>\n",
       "    </tr>\n",
       "    <tr>\n",
       "      <th>1823810</th>\n",
       "      <td>90767544100014</td>\n",
       "      <td>les veterans de la presquile de lezardrieux se...</td>\n",
       "      <td>32.0</td>\n",
       "      <td>cite</td>\n",
       "      <td>des ajoncs dor</td>\n",
       "      <td>NaN</td>\n",
       "      <td>22610</td>\n",
       "      <td>pleubian</td>\n",
       "    </tr>\n",
       "    <tr>\n",
       "      <th>1824612</th>\n",
       "      <td>90763927200018</td>\n",
       "      <td>love money</td>\n",
       "      <td>9.0</td>\n",
       "      <td>cite</td>\n",
       "      <td>du perreux</td>\n",
       "      <td>NaN</td>\n",
       "      <td>95100</td>\n",
       "      <td>argenteuil</td>\n",
       "    </tr>\n",
       "  </tbody>\n",
       "</table>\n",
       "<p>1590 rows × 8 columns</p>\n",
       "</div>"
      ],
      "text/plain": [
       "                     id                                               name  \\\n",
       "571       1286320500014                                  residence surcouf   \n",
       "1136      1485072100011                                copropriete le parc   \n",
       "2662      2101471700017                                             cedres   \n",
       "3101      2196242800013                              copropriete la rocade   \n",
       "3341      3272486600010                          cop res fontaine mouneyra   \n",
       "...                 ...                                                ...   \n",
       "1822927  82145271100046                                        echo studio   \n",
       "1823219  90758682000017                                        k corporate   \n",
       "1823809  90767543300011                                      tanismad auto   \n",
       "1823810  90767544100014  les veterans de la presquile de lezardrieux se...   \n",
       "1824612  90763927200018                                         love money   \n",
       "\n",
       "         street_number street_type                street_name  \\\n",
       "571              195.0        cite                mal leclerc   \n",
       "1136               NaN        cite                    du parc   \n",
       "2662              10.0        cite                    epargne   \n",
       "3101               NaN        cite               de la rocade   \n",
       "3341               NaN        cite                   mouneyra   \n",
       "...                ...         ...                        ...   \n",
       "1822927            9.0        cite                    paradis   \n",
       "1823219            NaN        cite              hlm castelsec   \n",
       "1823809            NaN        cite  chaperon vert 3eme avenue   \n",
       "1823810           32.0        cite             des ajoncs dor   \n",
       "1824612            9.0        cite                 du perreux   \n",
       "\n",
       "                           address_line2  postal_code                   city  \n",
       "571                                  NaN        50100  cherbourg en cotentin  \n",
       "1136                                 NaN        15000               aurillac  \n",
       "2662                                 NaN        83000                 toulon  \n",
       "3101                                 NaN        84500                bollene  \n",
       "3341                                 NaN        33000               bordeaux  \n",
       "...                                  ...          ...                    ...  \n",
       "1822927                              NaN        75010               paris 10  \n",
       "1823219                logement 60 esc 4        34120                pezenas  \n",
       "1823809  hlm chaperon vert pt 202 esc 12        94250               gentilly  \n",
       "1823810                              NaN        22610               pleubian  \n",
       "1824612                              NaN        95100             argenteuil  \n",
       "\n",
       "[1590 rows x 8 columns]"
      ]
     },
     "execution_count": 46,
     "metadata": {},
     "output_type": "execute_result"
    }
   ],
   "source": [
    "s1[s1['street_type'] == 'cite']"
   ]
  },
  {
   "cell_type": "code",
   "execution_count": 106,
   "id": "002f50b8",
   "metadata": {},
   "outputs": [
    {
     "data": {
      "text/plain": [
       "array(['all', 'av', 'bd', 'cami', 'car', 'che', 'chem', 'chs', 'cite',\n",
       "       'clos', 'cor', 'cote', 'cour', 'crs', 'dom', 'dsc', 'eca', 'esp',\n",
       "       'fg', 'gr', 'ham', 'hle', 'imp', 'ld', 'lot', 'mar', 'mte', 'parc',\n",
       "       'pas', 'pl', 'plan', 'pln', 'plt', 'pont', 'port', 'pro', 'prv',\n",
       "       'qua', 'quai', 'res', 'rle', 'roc', 'rpt', 'rte', 'rue', 'sen',\n",
       "       'sq', 'tpl', 'tra', 'vla', 'vlge', 'voie', 'za', 'zac', 'zi',\n",
       "       'zone'], dtype=object)"
      ]
     },
     "execution_count": 106,
     "metadata": {},
     "output_type": "execute_result"
    }
   ],
   "source": [
    "unique_street_types = np.unique(s1['street_type'].dropna())\n",
    "unique_street_types"
   ]
  },
  {
   "cell_type": "code",
   "execution_count": 85,
   "id": "a7b1bc0b",
   "metadata": {},
   "outputs": [
    {
     "data": {
      "text/plain": [
       "[('22 bis', 'house_number'),\n",
       " ('r nationale', 'road'),\n",
       " ('45190', 'postcode'),\n",
       " ('beaugency', 'city')]"
      ]
     },
     "execution_count": 85,
     "metadata": {},
     "output_type": "execute_result"
    }
   ],
   "source": [
    "parse_address('22 Bis r Nationale, 45190 BEAUGENCY')"
   ]
  },
  {
   "cell_type": "code",
   "execution_count": 114,
   "id": "63d8536b",
   "metadata": {},
   "outputs": [
    {
     "data": {
      "text/plain": [
       "[]"
      ]
     },
     "execution_count": 114,
     "metadata": {},
     "output_type": "execute_result"
    }
   ],
   "source": [
    "txt = \"h3110 bis\"\n",
    "[int(s) for s in txt.split() if s.isdigit()]"
   ]
  },
  {
   "cell_type": "code",
   "execution_count": 116,
   "id": "057e6182",
   "metadata": {},
   "outputs": [
    {
     "data": {
      "text/plain": [
       "['22']"
      ]
     },
     "execution_count": 116,
     "metadata": {},
     "output_type": "execute_result"
    }
   ],
   "source": [
    "re.findall(r'\\d+', \"22 bis\")"
   ]
  },
  {
   "cell_type": "code",
   "execution_count": 87,
   "id": "1f6a97d4",
   "metadata": {},
   "outputs": [
    {
     "data": {
      "text/plain": [
       "[('parking station de lavage', 'house'),\n",
       " ('505', 'house_number'),\n",
       " ('av georges pompidou', 'road'),\n",
       " ('73200', 'postcode'),\n",
       " ('gilly sur isère', 'city')]"
      ]
     },
     "execution_count": 87,
     "metadata": {},
     "output_type": "execute_result"
    }
   ],
   "source": [
    "parse_address('Parking Station De Lavage 505 av Georges Pompidou, 73200 GILLY SUR ISÈRE')"
   ]
  },
  {
   "cell_type": "code",
   "execution_count": 4,
   "id": "8f2bae3b",
   "metadata": {},
   "outputs": [
    {
     "data": {
      "text/plain": [
       "[('4', 'house_number'),\n",
       " ('bd de la republique', 'road'),\n",
       " ('80100', 'postcode'),\n",
       " ('abbeville', 'city')]"
      ]
     },
     "execution_count": 4,
     "metadata": {},
     "output_type": "execute_result"
    }
   ],
   "source": [
    "parse_address('4 BD DE LA REPUBLIQUE,80100 ABBEVILLE')"
   ]
  },
  {
   "cell_type": "code",
   "execution_count": 5,
   "id": "a3c05f13",
   "metadata": {},
   "outputs": [
    {
     "data": {
      "text/plain": [
       "[('zac de cadréan', 'house'),\n",
       " ('bd cadréan', 'road'),\n",
       " ('44550', 'postcode'),\n",
       " ('montoir de bretagne', 'city')]"
      ]
     },
     "execution_count": 5,
     "metadata": {},
     "output_type": "execute_result"
    }
   ],
   "source": [
    "parse_address('Zac De Cadréan bd Cadréan, 44550 MONTOIR DE BRETAGNE')"
   ]
  },
  {
   "cell_type": "code",
   "execution_count": 98,
   "id": "72a663f3",
   "metadata": {},
   "outputs": [],
   "source": [
    "x_ = parse_address('zi Louis Delaporte, 76370 ROUXMESNIL BOUTEILLES')"
   ]
  },
  {
   "cell_type": "code",
   "execution_count": 75,
   "id": "cb890871",
   "metadata": {},
   "outputs": [],
   "source": [
    "x_ = parse_address('Zac De Cadréan bd Cadréan, 44550 MONTOIR DE BRETAGNE')"
   ]
  },
  {
   "cell_type": "code",
   "execution_count": 99,
   "id": "ab5d6a5a",
   "metadata": {},
   "outputs": [
    {
     "data": {
      "text/plain": [
       "[('zi louis delaporte', 'road'),\n",
       " ('76370', 'postcode'),\n",
       " ('rouxmesnil bouteilles', 'city')]"
      ]
     },
     "execution_count": 99,
     "metadata": {},
     "output_type": "execute_result"
    }
   ],
   "source": [
    "x_"
   ]
  },
  {
   "cell_type": "code",
   "execution_count": 103,
   "id": "0bb5f520",
   "metadata": {},
   "outputs": [
    {
     "data": {
      "text/plain": [
       "'louis delaporte'"
      ]
     },
     "execution_count": 103,
     "metadata": {},
     "output_type": "execute_result"
    }
   ],
   "source": [
    "' '.join(x_[0][0].split()[1:])"
   ]
  },
  {
   "cell_type": "code",
   "execution_count": 20,
   "id": "55c35222",
   "metadata": {},
   "outputs": [],
   "source": [
    "def create_address_fields_dataframe(full_address_series=None):\n",
    "    \n",
    "    df_address_fields = pd.DataFrame(columns=['street_number', 'street_type', 'street_name', 'address_line2',\n",
    "                                              'postal_code', 'city'])\n",
    "    \n",
    "    for idx, add in enumerate(full_address_series):\n",
    "        if idx%10000 == 0:\n",
    "            print('{} entries completed...'.format(idx))\n",
    "        str_num = str_type = str_name = addline2 = postalcode = city = np.nan\n",
    "        \n",
    "        if type(add) == float:\n",
    "            pass\n",
    "        else:\n",
    "            addline2 = ''\n",
    "            parsed_add = parse_address(add)\n",
    "            \n",
    "            for item in parsed_add:\n",
    "                if item[1] == 'city':\n",
    "                    city = item[0]\n",
    "                elif item[1] == 'postcode':\n",
    "                    postalcode = item[0]\n",
    "                elif item[1] == 'road':\n",
    "                    road_comps = item[0].split()\n",
    "                    str_name = ' '.join(road_comps[1:])\n",
    "                    if road_comps[0] == 'r':\n",
    "                        str_type = 'rue'\n",
    "                    elif road_comps[0] in unique_street_types:\n",
    "                        str_type = road_comps[0]\n",
    "                    else:\n",
    "                        str_name = item[0]\n",
    "                elif item[1] == 'house_number':\n",
    "                    try:\n",
    "                        str_num = int(item[0])\n",
    "                    except ValueError:\n",
    "                        #print('The parsed \\'house_number\\' is not a valid integer. Extracting the first integer '\\\n",
    "                         #     'occurrence (from string) and setting it as \\'street_number\\'')\n",
    "                        ints = re.findall(r'\\d+', item[0])\n",
    "                        if len(ints) == 0:\n",
    "                            str_num = np.nan\n",
    "                        else:\n",
    "                            sep_ints = [int(s) for s in item[0].split() if s.isdigit()]\n",
    "                            if len(sep_ints) != 0:\n",
    "                                str_num = sep_ints[0]\n",
    "                            else:\n",
    "                                str_num = ints[0]\n",
    "                else:\n",
    "                    addline2 += item[0]\n",
    "                    addline2 += ' '\n",
    "            if addline2 == '':\n",
    "                addline2 = np.nan\n",
    "            \n",
    "        df_address_fields.loc[idx] = [str_num, str_type, str_name, addline2, postalcode, city]\n",
    "        \n",
    "    return df_address_fields"
   ]
  },
  {
   "cell_type": "code",
   "execution_count": null,
   "id": "14cc85cb",
   "metadata": {
    "scrolled": true
   },
   "outputs": [
    {
     "name": "stdout",
     "output_type": "stream",
     "text": [
      "0 entries completed...\n",
      "10000 entries completed...\n",
      "20000 entries completed...\n",
      "30000 entries completed...\n",
      "40000 entries completed...\n",
      "50000 entries completed...\n",
      "60000 entries completed...\n",
      "70000 entries completed...\n",
      "80000 entries completed...\n",
      "90000 entries completed...\n",
      "100000 entries completed...\n",
      "110000 entries completed...\n",
      "120000 entries completed...\n",
      "130000 entries completed...\n",
      "140000 entries completed...\n",
      "150000 entries completed...\n",
      "160000 entries completed...\n",
      "170000 entries completed...\n",
      "180000 entries completed...\n",
      "190000 entries completed...\n",
      "200000 entries completed...\n",
      "210000 entries completed...\n",
      "220000 entries completed...\n",
      "230000 entries completed...\n",
      "240000 entries completed...\n"
     ]
    }
   ],
   "source": [
    "df_address_fields = create_address_fields_dataframe(s2_nond_cstr['address'])\n",
    "df_address_fields"
   ]
  },
  {
   "cell_type": "markdown",
   "id": "b3089ba7",
   "metadata": {},
   "source": [
    "### Matching rows using recordlinkage"
   ]
  },
  {
   "cell_type": "code",
   "execution_count": null,
   "id": "6f467931",
   "metadata": {},
   "outputs": [],
   "source": []
  },
  {
   "cell_type": "code",
   "execution_count": null,
   "id": "f74dceb2",
   "metadata": {},
   "outputs": [],
   "source": []
  },
  {
   "cell_type": "code",
   "execution_count": null,
   "id": "5dddb4de",
   "metadata": {},
   "outputs": [],
   "source": []
  },
  {
   "cell_type": "code",
   "execution_count": null,
   "id": "644c25fa",
   "metadata": {},
   "outputs": [],
   "source": []
  }
 ],
 "metadata": {
  "kernelspec": {
   "display_name": "Python 3 (ipykernel)",
   "language": "python",
   "name": "python3"
  },
  "language_info": {
   "codemirror_mode": {
    "name": "ipython",
    "version": 3
   },
   "file_extension": ".py",
   "mimetype": "text/x-python",
   "name": "python",
   "nbconvert_exporter": "python",
   "pygments_lexer": "ipython3",
   "version": "3.8.12"
  }
 },
 "nbformat": 4,
 "nbformat_minor": 5
}

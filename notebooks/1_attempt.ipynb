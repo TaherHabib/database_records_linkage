{
 "cells": [
  {
   "cell_type": "code",
   "execution_count": 1,
   "id": "bdb1783b",
   "metadata": {},
   "outputs": [],
   "source": [
    "import numpy as np\n",
    "import pandas as pd\n",
    "import os\n",
    "import re\n",
    "import difflib\n",
    "from collections import Counter\n",
    "from metaphone import doublemetaphone\n",
    "\n",
    "ROOT = '/home/thabib/database_records_linkage'"
   ]
  },
  {
   "cell_type": "code",
   "execution_count": 8,
   "id": "f5f41a79",
   "metadata": {},
   "outputs": [],
   "source": [
    "s1_s2_commonids = pd.read_csv(os.path.join(ROOT, 'data', 's1_s2_commonids.tsv'), sep='\\t')\n",
    "s1_cstr = pd.read_csv(os.path.join(ROOT,'data', 'source1_cstr.csv'))\n",
    "s2_nond_cstr = pd.read_csv(os.path.join(ROOT, 'data', 'source2_nonanids_nod_cstr.csv'))"
   ]
  },
  {
   "cell_type": "code",
   "execution_count": 9,
   "id": "2346f666",
   "metadata": {
    "scrolled": true
   },
   "outputs": [
    {
     "data": {
      "text/html": [
       "<div>\n",
       "<style scoped>\n",
       "    .dataframe tbody tr th:only-of-type {\n",
       "        vertical-align: middle;\n",
       "    }\n",
       "\n",
       "    .dataframe tbody tr th {\n",
       "        vertical-align: top;\n",
       "    }\n",
       "\n",
       "    .dataframe thead th {\n",
       "        text-align: right;\n",
       "    }\n",
       "</style>\n",
       "<table border=\"1\" class=\"dataframe\">\n",
       "  <thead>\n",
       "    <tr style=\"text-align: right;\">\n",
       "      <th></th>\n",
       "      <th>id</th>\n",
       "      <th>name</th>\n",
       "      <th>street_number</th>\n",
       "      <th>street_type</th>\n",
       "      <th>street_name</th>\n",
       "      <th>address_line2</th>\n",
       "      <th>postal_code</th>\n",
       "      <th>city</th>\n",
       "    </tr>\n",
       "  </thead>\n",
       "  <tbody>\n",
       "    <tr>\n",
       "      <th>0</th>\n",
       "      <td>542012000015</td>\n",
       "      <td>societe des sucreries du marquenterre</td>\n",
       "      <td>NaN</td>\n",
       "      <td>rue</td>\n",
       "      <td>de la fontaine</td>\n",
       "      <td>NaN</td>\n",
       "      <td>80120</td>\n",
       "      <td>rue</td>\n",
       "    </tr>\n",
       "    <tr>\n",
       "      <th>1</th>\n",
       "      <td>542012000031</td>\n",
       "      <td>societe des sucreries du marquenterre</td>\n",
       "      <td>NaN</td>\n",
       "      <td>rte</td>\n",
       "      <td>nationale</td>\n",
       "      <td>NaN</td>\n",
       "      <td>62140</td>\n",
       "      <td>marconnelle</td>\n",
       "    </tr>\n",
       "    <tr>\n",
       "      <th>2</th>\n",
       "      <td>545011900028</td>\n",
       "      <td>le grand cafe et gassendi</td>\n",
       "      <td>NaN</td>\n",
       "      <td>NaN</td>\n",
       "      <td>saint christophe</td>\n",
       "      <td>route de marseille</td>\n",
       "      <td>4000</td>\n",
       "      <td>digne les bains</td>\n",
       "    </tr>\n",
       "    <tr>\n",
       "      <th>3</th>\n",
       "      <td>552017600016</td>\n",
       "      <td>hernas cartonnage</td>\n",
       "      <td>50.0</td>\n",
       "      <td>rue</td>\n",
       "      <td>pasteur</td>\n",
       "      <td>NaN</td>\n",
       "      <td>80210</td>\n",
       "      <td>feuquieres en vimeu</td>\n",
       "    </tr>\n",
       "    <tr>\n",
       "      <th>4</th>\n",
       "      <td>552017600032</td>\n",
       "      <td>hernas cartonnage</td>\n",
       "      <td>NaN</td>\n",
       "      <td>NaN</td>\n",
       "      <td>zone des hayettes</td>\n",
       "      <td>NaN</td>\n",
       "      <td>80210</td>\n",
       "      <td>chepy</td>\n",
       "    </tr>\n",
       "    <tr>\n",
       "      <th>...</th>\n",
       "      <td>...</td>\n",
       "      <td>...</td>\n",
       "      <td>...</td>\n",
       "      <td>...</td>\n",
       "      <td>...</td>\n",
       "      <td>...</td>\n",
       "      <td>...</td>\n",
       "      <td>...</td>\n",
       "    </tr>\n",
       "    <tr>\n",
       "      <th>1826164</th>\n",
       "      <td>90771119600010</td>\n",
       "      <td>bionormande</td>\n",
       "      <td>NaN</td>\n",
       "      <td>rue</td>\n",
       "      <td>de la grande flandre</td>\n",
       "      <td>lot 1 7 a</td>\n",
       "      <td>76270</td>\n",
       "      <td>neufchatel en bray</td>\n",
       "    </tr>\n",
       "    <tr>\n",
       "      <th>1826165</th>\n",
       "      <td>90771120400012</td>\n",
       "      <td>ahela bat</td>\n",
       "      <td>18.0</td>\n",
       "      <td>rue</td>\n",
       "      <td>saint clement</td>\n",
       "      <td>NaN</td>\n",
       "      <td>93200</td>\n",
       "      <td>saint denis</td>\n",
       "    </tr>\n",
       "    <tr>\n",
       "      <th>1826166</th>\n",
       "      <td>90771121200015</td>\n",
       "      <td>deco batiment</td>\n",
       "      <td>7.0</td>\n",
       "      <td>rue</td>\n",
       "      <td>auguste blanqui</td>\n",
       "      <td>NaN</td>\n",
       "      <td>93200</td>\n",
       "      <td>saint denis</td>\n",
       "    </tr>\n",
       "    <tr>\n",
       "      <th>1826167</th>\n",
       "      <td>90760906900014</td>\n",
       "      <td>chateaux merveilles</td>\n",
       "      <td>15.0</td>\n",
       "      <td>rue</td>\n",
       "      <td>de milan</td>\n",
       "      <td>NaN</td>\n",
       "      <td>75009</td>\n",
       "      <td>paris 9</td>\n",
       "    </tr>\n",
       "    <tr>\n",
       "      <th>1826168</th>\n",
       "      <td>90760963000013</td>\n",
       "      <td>cap armade</td>\n",
       "      <td>140.0</td>\n",
       "      <td>rue</td>\n",
       "      <td>de tocqueville</td>\n",
       "      <td>NaN</td>\n",
       "      <td>75017</td>\n",
       "      <td>paris 17</td>\n",
       "    </tr>\n",
       "  </tbody>\n",
       "</table>\n",
       "<p>1826169 rows × 8 columns</p>\n",
       "</div>"
      ],
      "text/plain": [
       "                     id                                   name  street_number  \\\n",
       "0          542012000015  societe des sucreries du marquenterre            NaN   \n",
       "1          542012000031  societe des sucreries du marquenterre            NaN   \n",
       "2          545011900028              le grand cafe et gassendi            NaN   \n",
       "3          552017600016                      hernas cartonnage           50.0   \n",
       "4          552017600032                      hernas cartonnage            NaN   \n",
       "...                 ...                                    ...            ...   \n",
       "1826164  90771119600010                            bionormande            NaN   \n",
       "1826165  90771120400012                              ahela bat           18.0   \n",
       "1826166  90771121200015                          deco batiment            7.0   \n",
       "1826167  90760906900014                    chateaux merveilles           15.0   \n",
       "1826168  90760963000013                             cap armade          140.0   \n",
       "\n",
       "        street_type           street_name       address_line2  postal_code  \\\n",
       "0               rue        de la fontaine                 NaN        80120   \n",
       "1               rte             nationale                 NaN        62140   \n",
       "2               NaN      saint christophe  route de marseille         4000   \n",
       "3               rue               pasteur                 NaN        80210   \n",
       "4               NaN     zone des hayettes                 NaN        80210   \n",
       "...             ...                   ...                 ...          ...   \n",
       "1826164         rue  de la grande flandre           lot 1 7 a        76270   \n",
       "1826165         rue         saint clement                 NaN        93200   \n",
       "1826166         rue       auguste blanqui                 NaN        93200   \n",
       "1826167         rue              de milan                 NaN        75009   \n",
       "1826168         rue        de tocqueville                 NaN        75017   \n",
       "\n",
       "                        city  \n",
       "0                        rue  \n",
       "1                marconnelle  \n",
       "2            digne les bains  \n",
       "3        feuquieres en vimeu  \n",
       "4                      chepy  \n",
       "...                      ...  \n",
       "1826164   neufchatel en bray  \n",
       "1826165          saint denis  \n",
       "1826166          saint denis  \n",
       "1826167              paris 9  \n",
       "1826168             paris 17  \n",
       "\n",
       "[1826169 rows x 8 columns]"
      ]
     },
     "execution_count": 9,
     "metadata": {},
     "output_type": "execute_result"
    }
   ],
   "source": [
    "s1_cstr"
   ]
  },
  {
   "cell_type": "code",
   "execution_count": 12,
   "id": "aaee6090",
   "metadata": {},
   "outputs": [],
   "source": [
    "unique_street_types = np.unique(s1_cstr['street_type'].dropna())"
   ]
  },
  {
   "cell_type": "code",
   "execution_count": 13,
   "id": "43df2f26",
   "metadata": {
    "scrolled": true
   },
   "outputs": [
    {
     "data": {
      "text/html": [
       "<div>\n",
       "<style scoped>\n",
       "    .dataframe tbody tr th:only-of-type {\n",
       "        vertical-align: middle;\n",
       "    }\n",
       "\n",
       "    .dataframe tbody tr th {\n",
       "        vertical-align: top;\n",
       "    }\n",
       "\n",
       "    .dataframe thead th {\n",
       "        text-align: right;\n",
       "    }\n",
       "</style>\n",
       "<table border=\"1\" class=\"dataframe\">\n",
       "  <thead>\n",
       "    <tr style=\"text-align: right;\">\n",
       "      <th></th>\n",
       "      <th>Unnamed: 0</th>\n",
       "      <th>address</th>\n",
       "      <th>website</th>\n",
       "      <th>id</th>\n",
       "      <th>name</th>\n",
       "    </tr>\n",
       "  </thead>\n",
       "  <tbody>\n",
       "    <tr>\n",
       "      <th>0</th>\n",
       "      <td>1</td>\n",
       "      <td>50 rte bage 01380 saint cyr sur menthon</td>\n",
       "      <td>NaN</td>\n",
       "      <td>84122632700010</td>\n",
       "      <td>sarl landrix freres</td>\n",
       "    </tr>\n",
       "    <tr>\n",
       "      <th>1</th>\n",
       "      <td>2</td>\n",
       "      <td>120 r menthon 01380 saint cyr sur menthon</td>\n",
       "      <td>NaN</td>\n",
       "      <td>79134582000025</td>\n",
       "      <td>marion kwasniewski</td>\n",
       "    </tr>\n",
       "    <tr>\n",
       "      <th>2</th>\n",
       "      <td>4</td>\n",
       "      <td>350 rte loeze 01380 saint cyr sur menthon</td>\n",
       "      <td>NaN</td>\n",
       "      <td>43416176600010</td>\n",
       "      <td>manigand stephane</td>\n",
       "    </tr>\n",
       "    <tr>\n",
       "      <th>3</th>\n",
       "      <td>5</td>\n",
       "      <td>41 r centre 01380 saint cyr sur menthon</td>\n",
       "      <td>http://www.infirmiere-frederique-thevenard.fr</td>\n",
       "      <td>48854644100012</td>\n",
       "      <td>frederique thevenard</td>\n",
       "    </tr>\n",
       "    <tr>\n",
       "      <th>4</th>\n",
       "      <td>6</td>\n",
       "      <td>116 chem cochatieres 01380 saint cyr sur menthon</td>\n",
       "      <td>NaN</td>\n",
       "      <td>41811188600028</td>\n",
       "      <td>garnier xavier</td>\n",
       "    </tr>\n",
       "    <tr>\n",
       "      <th>...</th>\n",
       "      <td>...</td>\n",
       "      <td>...</td>\n",
       "      <td>...</td>\n",
       "      <td>...</td>\n",
       "      <td>...</td>\n",
       "    </tr>\n",
       "    <tr>\n",
       "      <th>2271357</th>\n",
       "      <td>3530296</td>\n",
       "      <td>2 av chateau 83150 bandol</td>\n",
       "      <td>NaN</td>\n",
       "      <td>30130663500097</td>\n",
       "      <td>carlot jean francois</td>\n",
       "    </tr>\n",
       "    <tr>\n",
       "      <th>2271358</th>\n",
       "      <td>3530297</td>\n",
       "      <td>NaN</td>\n",
       "      <td>NaN</td>\n",
       "      <td>84978102600018</td>\n",
       "      <td>jacoby o</td>\n",
       "    </tr>\n",
       "    <tr>\n",
       "      <th>2271359</th>\n",
       "      <td>3530299</td>\n",
       "      <td>5 r jardins 83150 bandol</td>\n",
       "      <td>http://aquabike-en-mer.com</td>\n",
       "      <td>79518496900025</td>\n",
       "      <td>calvet richard</td>\n",
       "    </tr>\n",
       "    <tr>\n",
       "      <th>2271360</th>\n",
       "      <td>3530300</td>\n",
       "      <td>54 traverse laboureur 83150 bandol</td>\n",
       "      <td>http://dolcefarnientebandol.com</td>\n",
       "      <td>53925863200014</td>\n",
       "      <td>dolce far niente</td>\n",
       "    </tr>\n",
       "    <tr>\n",
       "      <th>2271361</th>\n",
       "      <td>3530301</td>\n",
       "      <td>9 r tonneliers 83150 bandol</td>\n",
       "      <td>NaN</td>\n",
       "      <td>40091957700025</td>\n",
       "      <td>cordonnerie nouvelle</td>\n",
       "    </tr>\n",
       "  </tbody>\n",
       "</table>\n",
       "<p>2271362 rows × 5 columns</p>\n",
       "</div>"
      ],
      "text/plain": [
       "         Unnamed: 0                                           address  \\\n",
       "0                 1           50 rte bage 01380 saint cyr sur menthon   \n",
       "1                 2         120 r menthon 01380 saint cyr sur menthon   \n",
       "2                 4         350 rte loeze 01380 saint cyr sur menthon   \n",
       "3                 5           41 r centre 01380 saint cyr sur menthon   \n",
       "4                 6  116 chem cochatieres 01380 saint cyr sur menthon   \n",
       "...             ...                                               ...   \n",
       "2271357     3530296                         2 av chateau 83150 bandol   \n",
       "2271358     3530297                                               NaN   \n",
       "2271359     3530299                          5 r jardins 83150 bandol   \n",
       "2271360     3530300                54 traverse laboureur 83150 bandol   \n",
       "2271361     3530301                       9 r tonneliers 83150 bandol   \n",
       "\n",
       "                                               website              id  \\\n",
       "0                                                  NaN  84122632700010   \n",
       "1                                                  NaN  79134582000025   \n",
       "2                                                  NaN  43416176600010   \n",
       "3        http://www.infirmiere-frederique-thevenard.fr  48854644100012   \n",
       "4                                                  NaN  41811188600028   \n",
       "...                                                ...             ...   \n",
       "2271357                                            NaN  30130663500097   \n",
       "2271358                                            NaN  84978102600018   \n",
       "2271359                     http://aquabike-en-mer.com  79518496900025   \n",
       "2271360                http://dolcefarnientebandol.com  53925863200014   \n",
       "2271361                                            NaN  40091957700025   \n",
       "\n",
       "                         name  \n",
       "0         sarl landrix freres  \n",
       "1          marion kwasniewski  \n",
       "2           manigand stephane  \n",
       "3        frederique thevenard  \n",
       "4              garnier xavier  \n",
       "...                       ...  \n",
       "2271357  carlot jean francois  \n",
       "2271358              jacoby o  \n",
       "2271359        calvet richard  \n",
       "2271360      dolce far niente  \n",
       "2271361  cordonnerie nouvelle  \n",
       "\n",
       "[2271362 rows x 5 columns]"
      ]
     },
     "execution_count": 13,
     "metadata": {},
     "output_type": "execute_result"
    }
   ],
   "source": [
    "s2_nond_cstr"
   ]
  },
  {
   "cell_type": "markdown",
   "id": "f8795ecb",
   "metadata": {},
   "source": [
    "# Testing Double Metaphone on name_x, name_y similarity matching"
   ]
  },
  {
   "cell_type": "code",
   "execution_count": 10,
   "id": "ac6e83e6",
   "metadata": {},
   "outputs": [
    {
     "data": {
      "text/plain": [
       "Unnamed: 0                                                  13\n",
       "id                                                565014800033\n",
       "name_x                                 SCIC VALDURANCE HABITAT\n",
       "street_number                                              2.0\n",
       "street_type                                                RUE\n",
       "street_name                            DU DOCTEUR SIMON PIETRI\n",
       "address_line2                                              NaN\n",
       "postal_code                                               4000\n",
       "city                                           DIGNE-LES-BAINS\n",
       "address          Bp 169 2 r Doct Piétri, 04000 DIGNE LES BAINS\n",
       "website                                                    NaN\n",
       "name_y                                 Valdurance Habitat SCIC\n",
       "Name: 13, dtype: object"
      ]
     },
     "execution_count": 10,
     "metadata": {},
     "output_type": "execute_result"
    }
   ],
   "source": [
    "s1_s2_commonids.iloc[13]"
   ]
  },
  {
   "cell_type": "code",
   "execution_count": 135,
   "id": "fd0976cf",
   "metadata": {},
   "outputs": [
    {
     "name": "stdout",
     "output_type": "stream",
     "text": [
      "('HPTTSKFLTRNS', '')\n",
      "('HPTTSKFLTRNS', '')\n"
     ]
    }
   ],
   "source": [
    "x_ = 'SCIC VALDURANCE HABITAT'.split(' ')\n",
    "x_.sort()\n",
    "x_ = ' '.join(x_)\n",
    "print(doublemetaphone(x_))\n",
    "\n",
    "y_ = 'Valdurance Habitat SCIC'.split(' ')\n",
    "y_.sort()\n",
    "y_ = ' '.join(y_)\n",
    "print(doublemetaphone(y_))"
   ]
  },
  {
   "cell_type": "code",
   "execution_count": 137,
   "id": "9044e194",
   "metadata": {},
   "outputs": [
    {
     "data": {
      "text/plain": [
       "'Habitat SCIC Valdurance'"
      ]
     },
     "execution_count": 137,
     "metadata": {},
     "output_type": "execute_result"
    }
   ],
   "source": [
    "y_"
   ]
  },
  {
   "cell_type": "code",
   "execution_count": 124,
   "id": "eb7845ed",
   "metadata": {},
   "outputs": [
    {
     "data": {
      "text/plain": [
       "('SKFLTRNSPTT', '')"
      ]
     },
     "execution_count": 124,
     "metadata": {},
     "output_type": "execute_result"
    }
   ],
   "source": [
    "doublemetaphone('SCIC VALDURANCE HABITAT')"
   ]
  },
  {
   "cell_type": "code",
   "execution_count": 125,
   "id": "aa946a2a",
   "metadata": {},
   "outputs": [
    {
     "data": {
      "text/plain": [
       "('FLTRNSPTTSK', '')"
      ]
     },
     "execution_count": 125,
     "metadata": {},
     "output_type": "execute_result"
    }
   ],
   "source": [
    "doublemetaphone('Valdurance Habitat SCIC')"
   ]
  },
  {
   "cell_type": "code",
   "execution_count": 45,
   "id": "24705476",
   "metadata": {},
   "outputs": [
    {
     "data": {
      "text/plain": [
       "\"SOCIETE D'EXERCICE LIBERALE A RESPONSABILITE LIMITEE DE CHIRURGIENS DENTISTES PATRICK SEBAG\""
      ]
     },
     "execution_count": 45,
     "metadata": {},
     "output_type": "execute_result"
    }
   ],
   "source": [
    "s1_s2_commonids.iloc[770311]['name_x']"
   ]
  },
  {
   "cell_type": "code",
   "execution_count": 54,
   "id": "b71ae10d",
   "metadata": {},
   "outputs": [
    {
     "data": {
      "text/plain": [
       "\"A CHIRURGIENS D'EXERCICE DE DENTISTES LIBERALE LIMITEE PATRICK RESPONSABILITE SEBAG SOCIETE\""
      ]
     },
     "execution_count": 54,
     "metadata": {},
     "output_type": "execute_result"
    }
   ],
   "source": [
    "x = s1_s2_commonids.iloc[770311]['name_x'].split(' ')\n",
    "x.sort()\n",
    "x = ' '.join(x)\n",
    "x"
   ]
  },
  {
   "cell_type": "code",
   "execution_count": 46,
   "id": "3cb84949",
   "metadata": {},
   "outputs": [
    {
     "data": {
      "text/plain": [
       "'Chirurgiens Dentistes Patr'"
      ]
     },
     "execution_count": 46,
     "metadata": {},
     "output_type": "execute_result"
    }
   ],
   "source": [
    "s1_s2_commonids.iloc[770311]['name_y']"
   ]
  },
  {
   "cell_type": "code",
   "execution_count": 58,
   "id": "7630a9f2",
   "metadata": {},
   "outputs": [
    {
     "data": {
      "text/plain": [
       "'Chirurgiens Dentistes Patr'"
      ]
     },
     "execution_count": 58,
     "metadata": {},
     "output_type": "execute_result"
    }
   ],
   "source": [
    "y = s1_s2_commonids.iloc[770311]['name_y'].split(' ')\n",
    "y.sort()\n",
    "y = ' '.join(y)\n",
    "y"
   ]
  },
  {
   "cell_type": "code",
   "execution_count": 59,
   "id": "1f22ad48",
   "metadata": {},
   "outputs": [
    {
     "data": {
      "text/plain": [
       "('AXRRJNSTTKSRSSTTNTSTSLPRLLMTPTRKRSPNSPLTSPKSST',\n",
       " 'AKRRKNSTTKSRSSTTNTSTSLPRLLMTPTRKRSPNSPLTSPKSXT')"
      ]
     },
     "execution_count": 59,
     "metadata": {},
     "output_type": "execute_result"
    }
   ],
   "source": [
    "doublemetaphone(x)"
   ]
  },
  {
   "cell_type": "code",
   "execution_count": 63,
   "id": "349d0cc3",
   "metadata": {},
   "outputs": [
    {
     "data": {
      "text/plain": [
       "('XRRJNSTNTSTSPTR', 'XRRKNSTNTSTSPTR')"
      ]
     },
     "execution_count": 63,
     "metadata": {},
     "output_type": "execute_result"
    }
   ],
   "source": [
    "doublemetaphone(y)"
   ]
  },
  {
   "cell_type": "code",
   "execution_count": 145,
   "id": "bd22c822",
   "metadata": {},
   "outputs": [
    {
     "name": "stdout",
     "output_type": "stream",
     "text": [
      "['']\n"
     ]
    }
   ],
   "source": [
    "print(get_overlap('THR', ''))"
   ]
  },
  {
   "cell_type": "code",
   "execution_count": 132,
   "id": "4958abbd",
   "metadata": {},
   "outputs": [
    {
     "data": {
      "text/plain": [
       "'FLTRNSPTT'"
      ]
     },
     "execution_count": 132,
     "metadata": {},
     "output_type": "execute_result"
    }
   ],
   "source": [
    "''.join(get_overlap(doublemetaphone('Valdurance Habitat SCIC')[0], doublemetaphone('SCIC VALDURANCE HABITAT')[0]))"
   ]
  },
  {
   "cell_type": "code",
   "execution_count": 95,
   "id": "285e5fb2",
   "metadata": {},
   "outputs": [
    {
     "data": {
      "text/plain": [
       "('JNL', 'ANL')"
      ]
     },
     "execution_count": 95,
     "metadata": {},
     "output_type": "execute_result"
    }
   ],
   "source": [
    "doublemetaphone('JANELI')"
   ]
  },
  {
   "cell_type": "code",
   "execution_count": 96,
   "id": "559dbb20",
   "metadata": {},
   "outputs": [
    {
     "data": {
      "text/plain": [
       "('ANTRMRXSPR', 'ANTRMRKSPR')"
      ]
     },
     "execution_count": 96,
     "metadata": {},
     "output_type": "execute_result"
    }
   ],
   "source": [
    "doublemetaphone('Intermarché Super')"
   ]
  },
  {
   "cell_type": "markdown",
   "id": "fd410180",
   "metadata": {},
   "source": [
    "# My Algorithm for Similarity MAtching for Strings"
   ]
  },
  {
   "cell_type": "code",
   "execution_count": 43,
   "id": "16e91a6c",
   "metadata": {},
   "outputs": [],
   "source": [
    "def get_overlap(s1, s2):\n",
    "    # From: https://stackoverflow.com/questions/14128763/how-to-find-the-overlap-between-2-sequences-and-return-it\n",
    "    s = difflib.SequenceMatcher(None, s1, s2)\n",
    "    list_t = s.get_matching_blocks()\n",
    "    #print(list_t)\n",
    "    best_overlaps = []\n",
    "    for i in range(len(list_t)):\n",
    "        best_overlaps.append(s1[list_t[i][0]:list_t[i][0]+list_t[i][2]])\n",
    "    return best_overlaps\n",
    "\n",
    "def get_match_score(s1_name, s2_name):\n",
    "    \n",
    "    s1_ = s1_name.split(' ')\n",
    "    s1_.sort()\n",
    "    s1_ = ' '.join(s1_)\n",
    "    s1_name_dmp = doublemetaphone(s1_)\n",
    "    #print(s1_name_dmp)\n",
    "    s2_ = s2_name.split(' ')\n",
    "    s2_.sort()\n",
    "    s2_ = ' '.join(s2_)\n",
    "    s2_name_dmp = doublemetaphone(s2_)\n",
    "    #print(s2_name_dmp)\n",
    "    \n",
    "    t1_t1_overlap = ''.join(get_overlap(s1_name_dmp[0], s2_name_dmp[0]))\n",
    "    if s1_name_dmp[1] == '' and s2_name_dmp[1] == '':\n",
    "        t2_t2_overlap = [1]\n",
    "    else:\n",
    "        t2_t2_overlap = ''.join(get_overlap(s1_name_dmp[1], s2_name_dmp[1]))\n",
    "    t1_t2_overlap = ''.join(get_overlap(s1_name_dmp[0], s2_name_dmp[1]))\n",
    "    t2_t1_overlap = ''.join(get_overlap(s1_name_dmp[1], s2_name_dmp[0]))\n",
    "    \n",
    "    t1_t1_score = len(t1_t1_overlap)/max(len(s1_name_dmp[0]), len(s2_name_dmp[0]), 1)\n",
    "    t2_t2_score = len(t2_t2_overlap)/max(len(s1_name_dmp[1]), len(s2_name_dmp[1]), 1)\n",
    "    t1_t2_score = len(t1_t2_overlap)/max(len(s1_name_dmp[0]), len(s2_name_dmp[1]), 1)\n",
    "    t2_t1_score = len(t2_t1_overlap)/max(len(s1_name_dmp[1]), len(s2_name_dmp[0]), 1)\n",
    "    \n",
    "    match_score = t1_t1_score + 0.5*t2_t2_score + 0.25*(t1_t2_score + t2_t1_score)\n",
    "    \n",
    "    return match_score"
   ]
  },
  {
   "cell_type": "code",
   "execution_count": 45,
   "id": "df1014d6",
   "metadata": {},
   "outputs": [
    {
     "data": {
      "text/plain": [
       "0.2884615384615385"
      ]
     },
     "execution_count": 45,
     "metadata": {},
     "output_type": "execute_result"
    }
   ],
   "source": [
    "get_match_score('av Gare, ANNOT','GARE DES CHEMINS DE FER DE PROVENCE ZONE DE LA GARE, ANNOT')"
   ]
  },
  {
   "cell_type": "code",
   "execution_count": 46,
   "id": "564eecc4",
   "metadata": {},
   "outputs": [
    {
     "data": {
      "text/plain": [
       "0.625"
      ]
     },
     "execution_count": 46,
     "metadata": {},
     "output_type": "execute_result"
    }
   ],
   "source": [
    "get_match_score('Chirurgiens Dentistes Patr',\"SOCIETE D'EXERCICE LIBERALE A RESPONSABILITE LIMITEE DE CHIRURGIENS DENTISTES PATRICK SEBAG\")"
   ]
  },
  {
   "cell_type": "code",
   "execution_count": 48,
   "id": "b90862b4",
   "metadata": {},
   "outputs": [
    {
     "data": {
      "text/plain": [
       "1.5"
      ]
     },
     "execution_count": 48,
     "metadata": {},
     "output_type": "execute_result"
    }
   ],
   "source": [
    "get_match_score('Taher ALi Habib', 'HABIB Taher ALi')"
   ]
  },
  {
   "cell_type": "code",
   "execution_count": 50,
   "id": "daa4730f",
   "metadata": {},
   "outputs": [
    {
     "data": {
      "text/plain": [
       "0.3352272727272727"
      ]
     },
     "execution_count": 50,
     "metadata": {},
     "output_type": "execute_result"
    }
   ],
   "source": [
    "get_match_score('pl Revelly, 04240 ANNOT', 'QUA QUARTIER DE LA BEITE,4240 ANNOT')"
   ]
  },
  {
   "cell_type": "code",
   "execution_count": 52,
   "id": "f1768fb9",
   "metadata": {},
   "outputs": [
    {
     "data": {
      "text/plain": [
       "0.85"
      ]
     },
     "execution_count": 52,
     "metadata": {},
     "output_type": "execute_result"
    }
   ],
   "source": [
    "get_match_score('rte 2 Vallées, 80100 ABBEVILLE', 'RTE DES DEUX VALLEES,80100 ABBEVILLE')"
   ]
  },
  {
   "cell_type": "code",
   "execution_count": 141,
   "id": "4352a3ba",
   "metadata": {},
   "outputs": [
    {
     "data": {
      "text/plain": [
       "'THR'"
      ]
     },
     "execution_count": 141,
     "metadata": {},
     "output_type": "execute_result"
    }
   ],
   "source": [
    "''.join(get_overlap(doublemetaphone('Taher')[0], doublemetaphone('Taher')[0]))"
   ]
  },
  {
   "cell_type": "code",
   "execution_count": 142,
   "id": "19de0fd3",
   "metadata": {},
   "outputs": [
    {
     "data": {
      "text/plain": [
       "''"
      ]
     },
     "execution_count": 142,
     "metadata": {},
     "output_type": "execute_result"
    }
   ],
   "source": [
    "''.join(get_overlap(doublemetaphone('Taher')[1], doublemetaphone('Taher')[1]))"
   ]
  },
  {
   "cell_type": "code",
   "execution_count": 143,
   "id": "f47dd31d",
   "metadata": {},
   "outputs": [
    {
     "data": {
      "text/plain": [
       "''"
      ]
     },
     "execution_count": 143,
     "metadata": {},
     "output_type": "execute_result"
    }
   ],
   "source": [
    "''.join(get_overlap(doublemetaphone('Taher')[0], doublemetaphone('Taher')[1]))"
   ]
  },
  {
   "cell_type": "code",
   "execution_count": 144,
   "id": "779b023d",
   "metadata": {},
   "outputs": [
    {
     "data": {
      "text/plain": [
       "''"
      ]
     },
     "execution_count": 144,
     "metadata": {},
     "output_type": "execute_result"
    }
   ],
   "source": [
    "''.join(get_overlap(doublemetaphone('Taher')[1], doublemetaphone('Taher')[0]))"
   ]
  },
  {
   "cell_type": "code",
   "execution_count": null,
   "id": "56e66320",
   "metadata": {},
   "outputs": [],
   "source": [
    "from thefuzz import fuzz"
   ]
  },
  {
   "cell_type": "code",
   "execution_count": 38,
   "id": "0078b5be",
   "metadata": {},
   "outputs": [
    {
     "data": {
      "text/plain": [
       "31"
      ]
     },
     "execution_count": 38,
     "metadata": {},
     "output_type": "execute_result"
    }
   ],
   "source": [
    "fuzz.token_sort_ratio('av Gare, ANNOT','GARE DES CHEMINS DE FER DE PROVENCE ZONE DE LA GARE, ANNOT')"
   ]
  },
  {
   "cell_type": "code",
   "execution_count": 47,
   "id": "f0ac0155",
   "metadata": {},
   "outputs": [
    {
     "data": {
      "text/plain": [
       "44"
      ]
     },
     "execution_count": 47,
     "metadata": {},
     "output_type": "execute_result"
    }
   ],
   "source": [
    "fuzz.token_sort_ratio('Chirurgiens Dentistes Patr',\"SOCIETE D'EXERCICE LIBERALE A RESPONSABILITE LIMITEE DE CHIRURGIENS DENTISTES PATRICK SEBAG\")"
   ]
  },
  {
   "cell_type": "code",
   "execution_count": 49,
   "id": "da31acd4",
   "metadata": {},
   "outputs": [
    {
     "data": {
      "text/plain": [
       "100"
      ]
     },
     "execution_count": 49,
     "metadata": {},
     "output_type": "execute_result"
    }
   ],
   "source": [
    "fuzz.token_sort_ratio('Taher ALi Habib', 'HABIB Taher ALi')"
   ]
  },
  {
   "cell_type": "code",
   "execution_count": 51,
   "id": "4fe97959",
   "metadata": {},
   "outputs": [
    {
     "data": {
      "text/plain": [
       "53"
      ]
     },
     "execution_count": 51,
     "metadata": {},
     "output_type": "execute_result"
    }
   ],
   "source": [
    "fuzz.token_sort_ratio('pl Revelly, 04240 ANNOT', 'QUA QUARTIER DE LA BEITE,4240 ANNOT')"
   ]
  },
  {
   "cell_type": "code",
   "execution_count": 53,
   "id": "b52a9e5e",
   "metadata": {},
   "outputs": [
    {
     "data": {
      "text/plain": [
       "81"
      ]
     },
     "execution_count": 53,
     "metadata": {},
     "output_type": "execute_result"
    }
   ],
   "source": [
    "fuzz.token_sort_ratio('rte 2 Vallées, 80100 ABBEVILLE', 'RTE DES DEUX VALLEES,80100 ABBEVILLE')"
   ]
  },
  {
   "cell_type": "markdown",
   "id": "b1c52f7e",
   "metadata": {},
   "source": [
    "### Conclusions"
   ]
  },
  {
   "cell_type": "markdown",
   "id": "6fbd4d77",
   "metadata": {},
   "source": [
    "1. _String Fuzzy matcher from the library __'thefuzz'__ is performing quite better than my own function_\n",
    "2. It can match both names as well as addresses equally reliably\n",
    "\n",
    "See here: https://github.com/seatgeek/thefuzz"
   ]
  },
  {
   "cell_type": "code",
   "execution_count": null,
   "id": "644c25fa",
   "metadata": {},
   "outputs": [],
   "source": []
  }
 ],
 "metadata": {
  "kernelspec": {
   "display_name": "Python 3 (ipykernel)",
   "language": "python",
   "name": "python3"
  },
  "language_info": {
   "codemirror_mode": {
    "name": "ipython",
    "version": 3
   },
   "file_extension": ".py",
   "mimetype": "text/x-python",
   "name": "python",
   "nbconvert_exporter": "python",
   "pygments_lexer": "ipython3",
   "version": "3.8.12"
  }
 },
 "nbformat": 4,
 "nbformat_minor": 5
}

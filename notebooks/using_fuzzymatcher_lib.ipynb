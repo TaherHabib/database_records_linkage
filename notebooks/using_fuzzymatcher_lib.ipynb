{
 "cells": [
  {
   "cell_type": "code",
   "execution_count": 1,
   "id": "92cecde9",
   "metadata": {},
   "outputs": [],
   "source": [
    "import numpy as np\n",
    "import pandas as pd\n",
    "import os\n",
    "import re\n",
    "from pathlib import Path\n",
    "import difflib\n",
    "from collections import Counter\n",
    "#from metaphone import doublemetaphone\n",
    "import fuzzymatcher\n",
    "\n",
    "ROOT = '/home/thabib/database_records_linkage'"
   ]
  },
  {
   "cell_type": "code",
   "execution_count": null,
   "id": "19940831",
   "metadata": {},
   "outputs": [],
   "source": [
    "s1_cstr = pd.read_csv(os.path.join(ROOT, 'data', 'source1_cstr.csv'))\n",
    "s2_cstr = pd.read_csv(os.path.join(ROOT, 'data', 'source2_cstr.csv'))"
   ]
  },
  {
   "cell_type": "code",
   "execution_count": null,
   "id": "5ba790df",
   "metadata": {},
   "outputs": [],
   "source": [
    "display(s1_cstr)\n",
    "display(s2_cstr)"
   ]
  },
  {
   "cell_type": "markdown",
   "id": "efd16aec",
   "metadata": {},
   "source": [
    "# Using Fuzzymatcher\n",
    "\n",
    "see here: https://github.com/RobinL/fuzzymatcher"
   ]
  },
  {
   "cell_type": "markdown",
   "id": "a160f8d7",
   "metadata": {},
   "source": [
    "### Matching rows using Fuzzymatcher"
   ]
  },
  {
   "cell_type": "code",
   "execution_count": null,
   "id": "8ad203d6",
   "metadata": {},
   "outputs": [],
   "source": []
  },
  {
   "cell_type": "code",
   "execution_count": null,
   "id": "88e853f6",
   "metadata": {},
   "outputs": [],
   "source": []
  },
  {
   "cell_type": "code",
   "execution_count": null,
   "id": "f310a631",
   "metadata": {},
   "outputs": [],
   "source": []
  },
  {
   "cell_type": "code",
   "execution_count": null,
   "id": "2e8d2985",
   "metadata": {},
   "outputs": [],
   "source": []
  },
  {
   "cell_type": "code",
   "execution_count": null,
   "id": "7fd8874e",
   "metadata": {},
   "outputs": [],
   "source": []
  }
 ],
 "metadata": {
  "kernelspec": {
   "display_name": "Python 3 (ipykernel)",
   "language": "python",
   "name": "python3"
  },
  "language_info": {
   "codemirror_mode": {
    "name": "ipython",
    "version": 3
   },
   "file_extension": ".py",
   "mimetype": "text/x-python",
   "name": "python",
   "nbconvert_exporter": "python",
   "pygments_lexer": "ipython3",
   "version": "3.8.12"
  }
 },
 "nbformat": 4,
 "nbformat_minor": 5
}

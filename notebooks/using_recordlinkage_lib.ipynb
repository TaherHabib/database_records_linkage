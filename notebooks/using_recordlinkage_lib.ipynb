{
 "cells": [
  {
   "cell_type": "code",
   "execution_count": 19,
   "id": "ae304e69",
   "metadata": {},
   "outputs": [],
   "source": [
    "import numpy as np\n",
    "import pandas as pd\n",
    "import os\n",
    "import re\n",
    "from pathlib import Path\n",
    "import difflib\n",
    "from collections import Counter\n",
    "#from metaphone import doublemetaphone\n",
    "from recordlinkage.preprocessing import clean\n",
    "\n",
    "ROOT = '/home/thabib/database_records_linkage'"
   ]
  },
  {
   "cell_type": "code",
   "execution_count": 26,
   "id": "d759b663",
   "metadata": {},
   "outputs": [],
   "source": [
    "s1_cstr = pd.read_csv(os.path.join(ROOT, 'data', 'source1_cstr.csv'))\n",
    "s2_cstr = pd.read_csv(os.path.join(ROOT, 'data', 'source2_cstr.csv'))"
   ]
  },
  {
   "cell_type": "code",
   "execution_count": 28,
   "id": "50b77b71",
   "metadata": {
    "scrolled": true
   },
   "outputs": [
    {
     "data": {
      "text/html": [
       "<div>\n",
       "<style scoped>\n",
       "    .dataframe tbody tr th:only-of-type {\n",
       "        vertical-align: middle;\n",
       "    }\n",
       "\n",
       "    .dataframe tbody tr th {\n",
       "        vertical-align: top;\n",
       "    }\n",
       "\n",
       "    .dataframe thead th {\n",
       "        text-align: right;\n",
       "    }\n",
       "</style>\n",
       "<table border=\"1\" class=\"dataframe\">\n",
       "  <thead>\n",
       "    <tr style=\"text-align: right;\">\n",
       "      <th></th>\n",
       "      <th>id</th>\n",
       "      <th>name</th>\n",
       "      <th>street_number</th>\n",
       "      <th>street_type</th>\n",
       "      <th>street_name</th>\n",
       "      <th>address_line2</th>\n",
       "      <th>postal_code</th>\n",
       "      <th>city</th>\n",
       "    </tr>\n",
       "  </thead>\n",
       "  <tbody>\n",
       "    <tr>\n",
       "      <th>0</th>\n",
       "      <td>542012000015</td>\n",
       "      <td>societe des sucreries du marquenterre</td>\n",
       "      <td>NaN</td>\n",
       "      <td>rue</td>\n",
       "      <td>de la fontaine</td>\n",
       "      <td>NaN</td>\n",
       "      <td>80120</td>\n",
       "      <td>rue</td>\n",
       "    </tr>\n",
       "    <tr>\n",
       "      <th>1</th>\n",
       "      <td>542012000031</td>\n",
       "      <td>societe des sucreries du marquenterre</td>\n",
       "      <td>NaN</td>\n",
       "      <td>rte</td>\n",
       "      <td>nationale</td>\n",
       "      <td>NaN</td>\n",
       "      <td>62140</td>\n",
       "      <td>marconnelle</td>\n",
       "    </tr>\n",
       "    <tr>\n",
       "      <th>2</th>\n",
       "      <td>545011900028</td>\n",
       "      <td>le grand cafe et gassendi</td>\n",
       "      <td>NaN</td>\n",
       "      <td>NaN</td>\n",
       "      <td>saint christophe</td>\n",
       "      <td>route de marseille</td>\n",
       "      <td>4000</td>\n",
       "      <td>digne les bains</td>\n",
       "    </tr>\n",
       "    <tr>\n",
       "      <th>3</th>\n",
       "      <td>552017600016</td>\n",
       "      <td>hernas cartonnage</td>\n",
       "      <td>50.0</td>\n",
       "      <td>rue</td>\n",
       "      <td>pasteur</td>\n",
       "      <td>NaN</td>\n",
       "      <td>80210</td>\n",
       "      <td>feuquieres en vimeu</td>\n",
       "    </tr>\n",
       "    <tr>\n",
       "      <th>4</th>\n",
       "      <td>552017600032</td>\n",
       "      <td>hernas cartonnage</td>\n",
       "      <td>NaN</td>\n",
       "      <td>NaN</td>\n",
       "      <td>zone des hayettes</td>\n",
       "      <td>NaN</td>\n",
       "      <td>80210</td>\n",
       "      <td>chepy</td>\n",
       "    </tr>\n",
       "    <tr>\n",
       "      <th>...</th>\n",
       "      <td>...</td>\n",
       "      <td>...</td>\n",
       "      <td>...</td>\n",
       "      <td>...</td>\n",
       "      <td>...</td>\n",
       "      <td>...</td>\n",
       "      <td>...</td>\n",
       "      <td>...</td>\n",
       "    </tr>\n",
       "    <tr>\n",
       "      <th>1826164</th>\n",
       "      <td>90771119600010</td>\n",
       "      <td>bionormande</td>\n",
       "      <td>NaN</td>\n",
       "      <td>rue</td>\n",
       "      <td>de la grande flandre</td>\n",
       "      <td>lot 1 7 a</td>\n",
       "      <td>76270</td>\n",
       "      <td>neufchatel en bray</td>\n",
       "    </tr>\n",
       "    <tr>\n",
       "      <th>1826165</th>\n",
       "      <td>90771120400012</td>\n",
       "      <td>ahela bat</td>\n",
       "      <td>18.0</td>\n",
       "      <td>rue</td>\n",
       "      <td>saint clement</td>\n",
       "      <td>NaN</td>\n",
       "      <td>93200</td>\n",
       "      <td>saint denis</td>\n",
       "    </tr>\n",
       "    <tr>\n",
       "      <th>1826166</th>\n",
       "      <td>90771121200015</td>\n",
       "      <td>deco batiment</td>\n",
       "      <td>7.0</td>\n",
       "      <td>rue</td>\n",
       "      <td>auguste blanqui</td>\n",
       "      <td>NaN</td>\n",
       "      <td>93200</td>\n",
       "      <td>saint denis</td>\n",
       "    </tr>\n",
       "    <tr>\n",
       "      <th>1826167</th>\n",
       "      <td>90760906900014</td>\n",
       "      <td>chateaux merveilles</td>\n",
       "      <td>15.0</td>\n",
       "      <td>rue</td>\n",
       "      <td>de milan</td>\n",
       "      <td>NaN</td>\n",
       "      <td>75009</td>\n",
       "      <td>paris 9</td>\n",
       "    </tr>\n",
       "    <tr>\n",
       "      <th>1826168</th>\n",
       "      <td>90760963000013</td>\n",
       "      <td>cap armade</td>\n",
       "      <td>140.0</td>\n",
       "      <td>rue</td>\n",
       "      <td>de tocqueville</td>\n",
       "      <td>NaN</td>\n",
       "      <td>75017</td>\n",
       "      <td>paris 17</td>\n",
       "    </tr>\n",
       "  </tbody>\n",
       "</table>\n",
       "<p>1826169 rows × 8 columns</p>\n",
       "</div>"
      ],
      "text/plain": [
       "                     id                                   name  street_number  \\\n",
       "0          542012000015  societe des sucreries du marquenterre            NaN   \n",
       "1          542012000031  societe des sucreries du marquenterre            NaN   \n",
       "2          545011900028              le grand cafe et gassendi            NaN   \n",
       "3          552017600016                      hernas cartonnage           50.0   \n",
       "4          552017600032                      hernas cartonnage            NaN   \n",
       "...                 ...                                    ...            ...   \n",
       "1826164  90771119600010                            bionormande            NaN   \n",
       "1826165  90771120400012                              ahela bat           18.0   \n",
       "1826166  90771121200015                          deco batiment            7.0   \n",
       "1826167  90760906900014                    chateaux merveilles           15.0   \n",
       "1826168  90760963000013                             cap armade          140.0   \n",
       "\n",
       "        street_type           street_name       address_line2  postal_code  \\\n",
       "0               rue        de la fontaine                 NaN        80120   \n",
       "1               rte             nationale                 NaN        62140   \n",
       "2               NaN      saint christophe  route de marseille         4000   \n",
       "3               rue               pasteur                 NaN        80210   \n",
       "4               NaN     zone des hayettes                 NaN        80210   \n",
       "...             ...                   ...                 ...          ...   \n",
       "1826164         rue  de la grande flandre           lot 1 7 a        76270   \n",
       "1826165         rue         saint clement                 NaN        93200   \n",
       "1826166         rue       auguste blanqui                 NaN        93200   \n",
       "1826167         rue              de milan                 NaN        75009   \n",
       "1826168         rue        de tocqueville                 NaN        75017   \n",
       "\n",
       "                        city  \n",
       "0                        rue  \n",
       "1                marconnelle  \n",
       "2            digne les bains  \n",
       "3        feuquieres en vimeu  \n",
       "4                      chepy  \n",
       "...                      ...  \n",
       "1826164   neufchatel en bray  \n",
       "1826165          saint denis  \n",
       "1826166          saint denis  \n",
       "1826167              paris 9  \n",
       "1826168             paris 17  \n",
       "\n",
       "[1826169 rows x 8 columns]"
      ]
     },
     "metadata": {},
     "output_type": "display_data"
    },
    {
     "data": {
      "text/html": [
       "<div>\n",
       "<style scoped>\n",
       "    .dataframe tbody tr th:only-of-type {\n",
       "        vertical-align: middle;\n",
       "    }\n",
       "\n",
       "    .dataframe tbody tr th {\n",
       "        vertical-align: top;\n",
       "    }\n",
       "\n",
       "    .dataframe thead th {\n",
       "        text-align: right;\n",
       "    }\n",
       "</style>\n",
       "<table border=\"1\" class=\"dataframe\">\n",
       "  <thead>\n",
       "    <tr style=\"text-align: right;\">\n",
       "      <th></th>\n",
       "      <th>address</th>\n",
       "      <th>website</th>\n",
       "      <th>id</th>\n",
       "      <th>name</th>\n",
       "    </tr>\n",
       "  </thead>\n",
       "  <tbody>\n",
       "    <tr>\n",
       "      <th>0</th>\n",
       "      <td>226 r menthon 01380 saint cyr sur menthon</td>\n",
       "      <td>NaN</td>\n",
       "      <td>NaN</td>\n",
       "      <td>sandrine berny</td>\n",
       "    </tr>\n",
       "    <tr>\n",
       "      <th>1</th>\n",
       "      <td>50 rte bage 01380 saint cyr sur menthon</td>\n",
       "      <td>NaN</td>\n",
       "      <td>8.412263e+13</td>\n",
       "      <td>sarl landrix freres</td>\n",
       "    </tr>\n",
       "    <tr>\n",
       "      <th>2</th>\n",
       "      <td>120 r menthon 01380 saint cyr sur menthon</td>\n",
       "      <td>NaN</td>\n",
       "      <td>7.913458e+13</td>\n",
       "      <td>marion kwasniewski</td>\n",
       "    </tr>\n",
       "    <tr>\n",
       "      <th>3</th>\n",
       "      <td>moulin 28 chem ruillat 01380 saint cyr sur men...</td>\n",
       "      <td>NaN</td>\n",
       "      <td>NaN</td>\n",
       "      <td>claude fondation</td>\n",
       "    </tr>\n",
       "    <tr>\n",
       "      <th>4</th>\n",
       "      <td>350 rte loeze 01380 saint cyr sur menthon</td>\n",
       "      <td>NaN</td>\n",
       "      <td>4.341618e+13</td>\n",
       "      <td>manigand stephane</td>\n",
       "    </tr>\n",
       "    <tr>\n",
       "      <th>...</th>\n",
       "      <td>...</td>\n",
       "      <td>...</td>\n",
       "      <td>...</td>\n",
       "      <td>...</td>\n",
       "    </tr>\n",
       "    <tr>\n",
       "      <th>3530297</th>\n",
       "      <td>NaN</td>\n",
       "      <td>NaN</td>\n",
       "      <td>8.497810e+13</td>\n",
       "      <td>jacoby o</td>\n",
       "    </tr>\n",
       "    <tr>\n",
       "      <th>3530298</th>\n",
       "      <td>quart guardere 83150 bandol</td>\n",
       "      <td>http://agence.carrefourlocation.fr</td>\n",
       "      <td>NaN</td>\n",
       "      <td>carrefour location</td>\n",
       "    </tr>\n",
       "    <tr>\n",
       "      <th>3530299</th>\n",
       "      <td>5 r jardins 83150 bandol</td>\n",
       "      <td>http://aquabike-en-mer.com</td>\n",
       "      <td>7.951850e+13</td>\n",
       "      <td>calvet richard</td>\n",
       "    </tr>\n",
       "    <tr>\n",
       "      <th>3530300</th>\n",
       "      <td>54 traverse laboureur 83150 bandol</td>\n",
       "      <td>http://dolcefarnientebandol.com</td>\n",
       "      <td>5.392586e+13</td>\n",
       "      <td>dolce far niente</td>\n",
       "    </tr>\n",
       "    <tr>\n",
       "      <th>3530301</th>\n",
       "      <td>9 r tonneliers 83150 bandol</td>\n",
       "      <td>NaN</td>\n",
       "      <td>4.009196e+13</td>\n",
       "      <td>cordonnerie nouvelle</td>\n",
       "    </tr>\n",
       "  </tbody>\n",
       "</table>\n",
       "<p>3530302 rows × 4 columns</p>\n",
       "</div>"
      ],
      "text/plain": [
       "                                                   address  \\\n",
       "0                226 r menthon 01380 saint cyr sur menthon   \n",
       "1                  50 rte bage 01380 saint cyr sur menthon   \n",
       "2                120 r menthon 01380 saint cyr sur menthon   \n",
       "3        moulin 28 chem ruillat 01380 saint cyr sur men...   \n",
       "4                350 rte loeze 01380 saint cyr sur menthon   \n",
       "...                                                    ...   \n",
       "3530297                                                NaN   \n",
       "3530298                        quart guardere 83150 bandol   \n",
       "3530299                           5 r jardins 83150 bandol   \n",
       "3530300                 54 traverse laboureur 83150 bandol   \n",
       "3530301                        9 r tonneliers 83150 bandol   \n",
       "\n",
       "                                    website            id  \\\n",
       "0                                       NaN           NaN   \n",
       "1                                       NaN  8.412263e+13   \n",
       "2                                       NaN  7.913458e+13   \n",
       "3                                       NaN           NaN   \n",
       "4                                       NaN  4.341618e+13   \n",
       "...                                     ...           ...   \n",
       "3530297                                 NaN  8.497810e+13   \n",
       "3530298  http://agence.carrefourlocation.fr           NaN   \n",
       "3530299          http://aquabike-en-mer.com  7.951850e+13   \n",
       "3530300     http://dolcefarnientebandol.com  5.392586e+13   \n",
       "3530301                                 NaN  4.009196e+13   \n",
       "\n",
       "                         name  \n",
       "0              sandrine berny  \n",
       "1         sarl landrix freres  \n",
       "2          marion kwasniewski  \n",
       "3            claude fondation  \n",
       "4           manigand stephane  \n",
       "...                       ...  \n",
       "3530297              jacoby o  \n",
       "3530298    carrefour location  \n",
       "3530299        calvet richard  \n",
       "3530300      dolce far niente  \n",
       "3530301  cordonnerie nouvelle  \n",
       "\n",
       "[3530302 rows x 4 columns]"
      ]
     },
     "metadata": {},
     "output_type": "display_data"
    }
   ],
   "source": [
    "display(s1_cstr)\n",
    "display(s2_cstr)"
   ]
  },
  {
   "cell_type": "code",
   "execution_count": null,
   "id": "81f6d9a7",
   "metadata": {},
   "outputs": [],
   "source": []
  },
  {
   "cell_type": "markdown",
   "id": "3cb0d14d",
   "metadata": {},
   "source": [
    "# Using Recordlinkage\n",
    "\n",
    "see here: https://recordlinkage.readthedocs.io/en/latest/about.html & https://pbpython.com/record-linking.html"
   ]
  },
  {
   "cell_type": "markdown",
   "id": "966e62fb",
   "metadata": {},
   "source": [
    "### Parsing 'address' in source2 into separate columns"
   ]
  },
  {
   "cell_type": "code",
   "execution_count": 31,
   "id": "9bd411b5",
   "metadata": {},
   "outputs": [],
   "source": [
    "from postal.parser import parse_address\n",
    "\n",
    "# 'city' – city\n",
    "# 'postcode' – psotal_code\n",
    "# 'house_number' – street_number\n",
    "# 'road' – street_name\n",
    "# 'house' OR anything else – address_line2"
   ]
  },
  {
   "cell_type": "code",
   "execution_count": 30,
   "id": "002f50b8",
   "metadata": {},
   "outputs": [
    {
     "data": {
      "text/plain": [
       "array(['all', 'av', 'bd', 'cami', 'car', 'che', 'chem', 'chs', 'cite',\n",
       "       'clos', 'cor', 'cote', 'cour', 'crs', 'dom', 'dsc', 'eca', 'esp',\n",
       "       'fg', 'gr', 'ham', 'hle', 'imp', 'ld', 'lot', 'mar', 'mte', 'parc',\n",
       "       'pas', 'pl', 'plan', 'pln', 'plt', 'pont', 'port', 'pro', 'prv',\n",
       "       'qua', 'quai', 'res', 'rle', 'roc', 'rpt', 'rte', 'rue', 'sen',\n",
       "       'sq', 'tpl', 'tra', 'vla', 'vlge', 'voie', 'za', 'zac', 'zi',\n",
       "       'zone'], dtype=object)"
      ]
     },
     "execution_count": 30,
     "metadata": {},
     "output_type": "execute_result"
    }
   ],
   "source": [
    "unique_street_types = np.unique(s1_cstr['street_type'].dropna())\n",
    "unique_street_types"
   ]
  },
  {
   "cell_type": "code",
   "execution_count": 85,
   "id": "a7b1bc0b",
   "metadata": {},
   "outputs": [
    {
     "data": {
      "text/plain": [
       "[('22 bis', 'house_number'),\n",
       " ('r nationale', 'road'),\n",
       " ('45190', 'postcode'),\n",
       " ('beaugency', 'city')]"
      ]
     },
     "execution_count": 85,
     "metadata": {},
     "output_type": "execute_result"
    }
   ],
   "source": [
    "parse_address('22 Bis r Nationale, 45190 BEAUGENCY')"
   ]
  },
  {
   "cell_type": "code",
   "execution_count": 87,
   "id": "1f6a97d4",
   "metadata": {},
   "outputs": [
    {
     "data": {
      "text/plain": [
       "[('parking station de lavage', 'house'),\n",
       " ('505', 'house_number'),\n",
       " ('av georges pompidou', 'road'),\n",
       " ('73200', 'postcode'),\n",
       " ('gilly sur isère', 'city')]"
      ]
     },
     "execution_count": 87,
     "metadata": {},
     "output_type": "execute_result"
    }
   ],
   "source": [
    "parse_address('Parking Station De Lavage 505 av Georges Pompidou, 73200 GILLY SUR ISÈRE')"
   ]
  },
  {
   "cell_type": "code",
   "execution_count": 4,
   "id": "8f2bae3b",
   "metadata": {},
   "outputs": [
    {
     "data": {
      "text/plain": [
       "[('4', 'house_number'),\n",
       " ('bd de la republique', 'road'),\n",
       " ('80100', 'postcode'),\n",
       " ('abbeville', 'city')]"
      ]
     },
     "execution_count": 4,
     "metadata": {},
     "output_type": "execute_result"
    }
   ],
   "source": [
    "parse_address('4 BD DE LA REPUBLIQUE,80100 ABBEVILLE')"
   ]
  },
  {
   "cell_type": "code",
   "execution_count": 5,
   "id": "a3c05f13",
   "metadata": {},
   "outputs": [
    {
     "data": {
      "text/plain": [
       "[('zac de cadréan', 'house'),\n",
       " ('bd cadréan', 'road'),\n",
       " ('44550', 'postcode'),\n",
       " ('montoir de bretagne', 'city')]"
      ]
     },
     "execution_count": 5,
     "metadata": {},
     "output_type": "execute_result"
    }
   ],
   "source": [
    "parse_address('Zac De Cadréan bd Cadréan, 44550 MONTOIR DE BRETAGNE')"
   ]
  },
  {
   "cell_type": "code",
   "execution_count": 32,
   "id": "72a663f3",
   "metadata": {},
   "outputs": [
    {
     "data": {
      "text/plain": [
       "[('zi louis delaporte', 'road'),\n",
       " ('76370', 'postcode'),\n",
       " ('rouxmesnil bouteilles', 'city')]"
      ]
     },
     "execution_count": 32,
     "metadata": {},
     "output_type": "execute_result"
    }
   ],
   "source": [
    "parse_address('zi Louis Delaporte, 76370 ROUXMESNIL BOUTEILLES')"
   ]
  },
  {
   "cell_type": "code",
   "execution_count": 33,
   "id": "55c35222",
   "metadata": {},
   "outputs": [],
   "source": [
    "def create_address_fields_dataframe(full_address_series=None):\n",
    "    \n",
    "    df_address_fields = pd.DataFrame(columns=['street_number', 'street_type', 'street_name', 'address_line2',\n",
    "                                              'postal_code', 'city'])\n",
    "    \n",
    "    for idx, add in enumerate(full_address_series):\n",
    "        if idx%10000 == 0:\n",
    "            print('{} entries completed...'.format(idx))\n",
    "        str_num = str_type = str_name = addline2 = postalcode = city = np.nan\n",
    "        \n",
    "        if type(add) == float:\n",
    "            pass\n",
    "        else:\n",
    "            addline2 = ''\n",
    "            parsed_add = parse_address(add)\n",
    "            \n",
    "            for item in parsed_add:\n",
    "                if item[1] == 'city':\n",
    "                    city = item[0]\n",
    "                elif item[1] == 'postcode':\n",
    "                    postalcode = item[0]\n",
    "                elif item[1] == 'road':\n",
    "                    road_comps = item[0].split()\n",
    "                    str_name = ' '.join(road_comps[1:])\n",
    "                    if road_comps[0] == 'r':\n",
    "                        str_type = 'rue'\n",
    "                    elif road_comps[0] in unique_street_types:\n",
    "                        str_type = road_comps[0]\n",
    "                    else:\n",
    "                        str_name = item[0]\n",
    "                elif item[1] == 'house_number':\n",
    "                    try:\n",
    "                        str_num = int(item[0])\n",
    "                    except ValueError:\n",
    "                        #print('The parsed \\'house_number\\' is not a valid integer. Extracting the first integer '\\\n",
    "                         #     'occurrence (from string) and setting it as \\'street_number\\'')\n",
    "                        ints = re.findall(r'\\d+', item[0])\n",
    "                        if len(ints) == 0:\n",
    "                            str_num = np.nan\n",
    "                        else:\n",
    "                            sep_ints = [int(s) for s in item[0].split() if s.isdigit()]\n",
    "                            if len(sep_ints) != 0:\n",
    "                                str_num = sep_ints[0]\n",
    "                            else:\n",
    "                                str_num = ints[0]\n",
    "                else:\n",
    "                    addline2 += item[0]\n",
    "                    addline2 += ' '\n",
    "            if addline2 == '':\n",
    "                addline2 = np.nan\n",
    "            \n",
    "        df_address_fields.loc[idx] = [str_num, str_type, str_name, addline2, postalcode, city]\n",
    "        \n",
    "    return df_address_fields"
   ]
  },
  {
   "cell_type": "code",
   "execution_count": null,
   "id": "14cc85cb",
   "metadata": {
    "scrolled": true
   },
   "outputs": [
    {
     "name": "stdout",
     "output_type": "stream",
     "text": [
      "0 entries completed...\n",
      "10000 entries completed...\n",
      "20000 entries completed...\n",
      "30000 entries completed...\n",
      "40000 entries completed...\n",
      "50000 entries completed...\n",
      "60000 entries completed...\n",
      "70000 entries completed...\n",
      "80000 entries completed...\n",
      "90000 entries completed...\n",
      "100000 entries completed...\n",
      "110000 entries completed...\n",
      "120000 entries completed...\n",
      "130000 entries completed...\n",
      "140000 entries completed...\n",
      "150000 entries completed...\n",
      "160000 entries completed...\n",
      "170000 entries completed...\n",
      "180000 entries completed...\n",
      "190000 entries completed...\n",
      "200000 entries completed...\n",
      "210000 entries completed...\n",
      "220000 entries completed...\n",
      "230000 entries completed...\n",
      "240000 entries completed...\n"
     ]
    }
   ],
   "source": [
    "df_address_fields = create_address_fields_dataframe(s2_nond_cstr['address'])\n",
    "df_address_fields"
   ]
  },
  {
   "cell_type": "code",
   "execution_count": null,
   "id": "e0d85be6",
   "metadata": {},
   "outputs": [],
   "source": []
  },
  {
   "cell_type": "markdown",
   "id": "b3089ba7",
   "metadata": {},
   "source": [
    "### Matching rows using recordlinkage"
   ]
  },
  {
   "cell_type": "code",
   "execution_count": null,
   "id": "6f467931",
   "metadata": {},
   "outputs": [],
   "source": []
  },
  {
   "cell_type": "code",
   "execution_count": null,
   "id": "f74dceb2",
   "metadata": {},
   "outputs": [],
   "source": []
  },
  {
   "cell_type": "code",
   "execution_count": null,
   "id": "5dddb4de",
   "metadata": {},
   "outputs": [],
   "source": []
  },
  {
   "cell_type": "code",
   "execution_count": null,
   "id": "644c25fa",
   "metadata": {},
   "outputs": [],
   "source": []
  },
  {
   "cell_type": "code",
   "execution_count": null,
   "id": "1a7a6b31",
   "metadata": {},
   "outputs": [],
   "source": []
  },
  {
   "cell_type": "code",
   "execution_count": null,
   "id": "ec91a1b9",
   "metadata": {},
   "outputs": [],
   "source": []
  }
 ],
 "metadata": {
  "kernelspec": {
   "display_name": "Python 3 (ipykernel)",
   "language": "python",
   "name": "python3"
  },
  "language_info": {
   "codemirror_mode": {
    "name": "ipython",
    "version": 3
   },
   "file_extension": ".py",
   "mimetype": "text/x-python",
   "name": "python",
   "nbconvert_exporter": "python",
   "pygments_lexer": "ipython3",
   "version": "3.8.12"
  }
 },
 "nbformat": 4,
 "nbformat_minor": 5
}
